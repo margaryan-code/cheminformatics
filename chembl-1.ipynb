{
 "cells": [
  {
   "cell_type": "code",
   "execution_count": 1,
   "id": "684c1efb-2733-4e6c-b3d7-82728522060e",
   "metadata": {},
   "outputs": [
    {
     "name": "stdout",
     "output_type": "stream",
     "text": [
      "['activity', 'activity_supplementary_data_by_activity', 'assay', 'assay_class', 'atc_class', 'binding_site', 'biotherapeutic', 'cell_line', 'chembl_id_lookup', 'chembl_release', 'compound_record', 'compound_structural_alert', 'description', 'document', 'document_similarity', 'drug', 'drug_indication', 'drug_warning', 'go_slim', 'image', 'mechanism', 'metabolism', 'molecule', 'molecule_form', 'official', 'organism', 'protein_classification', 'similarity', 'source', 'substructure', 'target', 'target_component', 'target_relation', 'tissue', 'xref_source']\n"
     ]
    }
   ],
   "source": [
    "from chembl_webresource_client.new_client import new_client\n",
    "\n",
    "available_resources = [resource for resource in dir(new_client) if not resource.startswith('_')]\n",
    "print(available_resources)"
   ]
  },
  {
   "cell_type": "code",
   "execution_count": 2,
   "id": "ead1a27b-4cb7-4608-a02c-3611e7b4dfce",
   "metadata": {},
   "outputs": [
    {
     "data": {
      "text/plain": [
       "[{'atc_classifications': ['B01AC06', 'N02BA01', 'N02BA51', 'A01AD05', 'N02BA71'], 'availability_type': 2, 'biotherapeutic': None, 'black_box_warning': 0, 'chemical_probe': 0, 'chirality': 2, 'cross_references': [{'xref_id': 'aspirin', 'xref_name': 'aspirin', 'xref_src': 'DailyMed'}], 'dosed_ingredient': True, 'first_approval': 1950, 'first_in_class': 0, 'helm_notation': None, 'inorganic_flag': 0, 'max_phase': '4.0', 'molecule_chembl_id': 'CHEMBL25', 'molecule_hierarchy': {'active_chembl_id': 'CHEMBL25', 'molecule_chembl_id': 'CHEMBL25', 'parent_chembl_id': 'CHEMBL25'}, 'molecule_properties': {'alogp': '1.31', 'aromatic_rings': 1, 'full_molformula': 'C9H8O4', 'full_mwt': '180.16', 'hba': 3, 'hbd': 1, 'heavy_atoms': 13, 'mw_freebase': '180.16', 'np_likeness_score': '0.12', 'num_ro5_violations': 0, 'psa': '63.60', 'qed_weighted': '0.55', 'ro3_pass': 'N', 'rtb': 2}, 'molecule_structures': {'canonical_smiles': 'CC(=O)Oc1ccccc1C(=O)O', 'molfile': '\\n     RDKit          2D\\n\\n 13 13  0  0  0  0  0  0  0  0999 V2000\\n   19.8052   -4.2758    0.0000 C   0  0  0  0  0  0  0  0  0  0  0  0\\n   19.8040   -5.0953    0.0000 C   0  0  0  0  0  0  0  0  0  0  0  0\\n   20.5121   -5.5043    0.0000 C   0  0  0  0  0  0  0  0  0  0  0  0\\n   21.2217   -5.0948    0.0000 C   0  0  0  0  0  0  0  0  0  0  0  0\\n   21.2189   -4.2722    0.0000 C   0  0  0  0  0  0  0  0  0  0  0  0\\n   20.5103   -3.8669    0.0000 C   0  0  0  0  0  0  0  0  0  0  0  0\\n   20.5078   -3.0497    0.0000 C   0  0  0  0  0  0  0  0  0  0  0  0\\n   21.2143   -2.6390    0.0000 O   0  0  0  0  0  0  0  0  0  0  0  0\\n   19.7989   -2.6432    0.0000 O   0  0  0  0  0  0  0  0  0  0  0  0\\n   21.9250   -3.8609    0.0000 O   0  0  0  0  0  0  0  0  0  0  0  0\\n   22.6343   -4.2668    0.0000 C   0  0  0  0  0  0  0  0  0  0  0  0\\n   23.3405   -3.8556    0.0000 C   0  0  0  0  0  0  0  0  0  0  0  0\\n   22.6374   -5.0840    0.0000 O   0  0  0  0  0  0  0  0  0  0  0  0\\n  1  2  2  0\\n  2  3  1  0\\n  3  4  2  0\\n  4  5  1  0\\n  5  6  2  0\\n  6  1  1  0\\n  6  7  1  0\\n  7  8  1  0\\n  7  9  2  0\\n  5 10  1  0\\n 10 11  1  0\\n 11 12  1  0\\n 11 13  2  0\\nM  END\\n> <chembl_id>\\nCHEMBL25\\n\\n> <chembl_pref_name>\\nASPIRIN', 'standard_inchi': 'InChI=1S/C9H8O4/c1-6(10)13-8-5-3-2-4-7(8)9(11)12/h2-5H,1H3,(H,11,12)', 'standard_inchi_key': 'BSYNRYMUTXBXSQ-UHFFFAOYSA-N'}, 'molecule_synonyms': [{'molecule_synonym': '8-hour bayer', 'syn_type': 'TRADE_NAME', 'synonyms': '8-HOUR BAYER'}, {'molecule_synonym': 'Acetosalic acid', 'syn_type': 'TRADE_NAME', 'synonyms': 'Acetosalic Acid'}, {'molecule_synonym': 'Acetylsalic acid', 'syn_type': 'TRADE_NAME', 'synonyms': 'ACETYLSALIC ACID'}, {'molecule_synonym': 'Acetyl salicylate', 'syn_type': 'OTHER', 'synonyms': 'ACETYL SALICYLATE'}, {'molecule_synonym': 'Acetylsalicylic acid', 'syn_type': 'ATC', 'synonyms': 'ACETYLSALICYLIC ACID'}, {'molecule_synonym': 'Acetylsalicylic acid', 'syn_type': 'OTHER', 'synonyms': 'ACETYLSALICYLIC ACID'}, {'molecule_synonym': 'Acetylsalicylic acid (who-ip)', 'syn_type': 'OTHER', 'synonyms': 'ACETYLSALICYLIC ACID (WHO-IP)'}, {'molecule_synonym': 'Acetylsalicylicum acidum', 'syn_type': 'OTHER', 'synonyms': 'ACETYLSALICYLICUM ACIDUM'}, {'molecule_synonym': 'Acidum acetylsalicylicum', 'syn_type': 'OTHER', 'synonyms': 'ACIDUM ACETYLSALICYLICUM'}, {'molecule_synonym': 'Acidum acetylsalicylicum (who-ip)', 'syn_type': 'OTHER', 'synonyms': 'ACIDUM ACETYLSALICYLICUM (WHO-IP)'}, {'molecule_synonym': 'Alka rapid', 'syn_type': 'TRADE_NAME', 'synonyms': 'ALKA RAPID'}, {'molecule_synonym': 'Anadin all night', 'syn_type': 'TRADE_NAME', 'synonyms': 'ANADIN ALL NIGHT'}, {'molecule_synonym': 'Angettes 75', 'syn_type': 'TRADE_NAME', 'synonyms': 'ANGETTES 75'}, {'molecule_synonym': 'Aspirin', 'syn_type': 'BNF', 'synonyms': 'ASPIRIN'}, {'molecule_synonym': 'Aspirin', 'syn_type': 'FDA', 'synonyms': 'ASPIRIN'}, {'molecule_synonym': 'Aspirin', 'syn_type': 'MERCK_INDEX', 'synonyms': 'ASPIRIN'}, {'molecule_synonym': 'Aspirin', 'syn_type': 'OTHER', 'synonyms': 'ASPIRIN'}, {'molecule_synonym': 'Aspirin', 'syn_type': 'TRADE_NAME', 'synonyms': 'ASPIRIN'}, {'molecule_synonym': 'Aspirin component of aggrenox', 'syn_type': 'TRADE_NAME', 'synonyms': 'ASPIRIN COMPONENT OF AGGRENOX'}, {'molecule_synonym': 'Aspirin component of axotal', 'syn_type': 'TRADE_NAME', 'synonyms': 'ASPIRIN COMPONENT OF AXOTAL'}, {'molecule_synonym': 'Aspirin component of azdone', 'syn_type': 'TRADE_NAME', 'synonyms': 'ASPIRIN COMPONENT OF AZDONE'}, {'molecule_synonym': 'Aspirin component of carisoprodol compound', 'syn_type': 'TRADE_NAME', 'synonyms': 'ASPIRIN COMPONENT OF CARISOPRODOL COMPOUND'}, {'molecule_synonym': 'Aspirin component of clopidogrel/acetylsalicylic acid', 'syn_type': 'TRADE_NAME', 'synonyms': 'ASPIRIN COMPONENT OF CLOPIDOGREL/ACETYLSALICYLIC ACID'}, {'molecule_synonym': 'Aspirin component of codoxy', 'syn_type': 'TRADE_NAME', 'synonyms': 'ASPIRIN COMPONENT OF CODOXY'}, {'molecule_synonym': 'Aspirin component of darvon compound', 'syn_type': 'TRADE_NAME', 'synonyms': 'ASPIRIN COMPONENT OF DARVON COMPOUND'}, {'molecule_synonym': 'Aspirin component of duocover', 'syn_type': 'TRADE_NAME', 'synonyms': 'ASPIRIN COMPONENT OF DUOCOVER'}, {'molecule_synonym': 'Aspirin component of duoplavin', 'syn_type': 'TRADE_NAME', 'synonyms': 'ASPIRIN COMPONENT OF DUOPLAVIN'}, {'molecule_synonym': 'Aspirin component of equagesic', 'syn_type': 'TRADE_NAME', 'synonyms': 'ASPIRIN COMPONENT OF EQUAGESIC'}, {'molecule_synonym': 'Aspirin component of excedrin', 'syn_type': 'TRADE_NAME', 'synonyms': 'ASPIRIN COMPONENT OF EXCEDRIN'}, {'molecule_synonym': 'Aspirin component of fiorinal', 'syn_type': 'TRADE_NAME', 'synonyms': 'ASPIRIN COMPONENT OF FIORINAL'}, {'molecule_synonym': 'Aspirin component of invagesic', 'syn_type': 'TRADE_NAME', 'synonyms': 'ASPIRIN COMPONENT OF INVAGESIC'}, {'molecule_synonym': 'Aspirin component of invagesic forte', 'syn_type': 'TRADE_NAME', 'synonyms': 'ASPIRIN COMPONENT OF INVAGESIC FORTE'}, {'molecule_synonym': 'Aspirin component of lanorinal', 'syn_type': 'TRADE_NAME', 'synonyms': 'ASPIRIN COMPONENT OF LANORINAL'}, {'molecule_synonym': 'Aspirin component of mepro-', 'syn_type': 'TRADE_NAME', 'synonyms': 'ASPIRIN COMPONENT OF MEPRO-'}, {'molecule_synonym': 'Aspirin component of micrainin', 'syn_type': 'TRADE_NAME', 'synonyms': 'ASPIRIN COMPONENT OF MICRAININ'}, {'molecule_synonym': 'Aspirin component of norgesic', 'syn_type': 'TRADE_NAME', 'synonyms': 'ASPIRIN COMPONENT OF NORGESIC'}, {'molecule_synonym': 'Aspirin component of orphengesic', 'syn_type': 'TRADE_NAME', 'synonyms': 'ASPIRIN COMPONENT OF ORPHENGESIC'}, {'molecule_synonym': 'Aspirin component of orphengesic forte', 'syn_type': 'TRADE_NAME', 'synonyms': 'ASPIRIN COMPONENT OF ORPHENGESIC FORTE'}, {'molecule_synonym': 'Aspirin component of pa-32540', 'syn_type': 'TRADE_NAME', 'synonyms': 'ASPIRIN COMPONENT OF PA-32540'}, {'molecule_synonym': 'Aspirin component of -pc', 'syn_type': 'TRADE_NAME', 'synonyms': 'ASPIRIN COMPONENT OF -PC'}, {'molecule_synonym': 'Aspirin component of percodan', 'syn_type': 'TRADE_NAME', 'synonyms': 'ASPIRIN COMPONENT OF PERCODAN'}, {'molecule_synonym': 'Aspirin component of percodan-demi', 'syn_type': 'TRADE_NAME', 'synonyms': 'ASPIRIN COMPONENT OF PERCODAN-DEMI'}, {'molecule_synonym': 'Aspirin component of pl2200', 'syn_type': 'TRADE_NAME', 'synonyms': 'ASPIRIN COMPONENT OF PL2200'}, {'molecule_synonym': 'Aspirin component of pravigard pac', 'syn_type': 'TRADE_NAME', 'synonyms': 'ASPIRIN COMPONENT OF PRAVIGARD PAC'}, {'molecule_synonym': 'Aspirin component of q-gesic', 'syn_type': 'TRADE_NAME', 'synonyms': 'ASPIRIN COMPONENT OF Q-GESIC'}, {'molecule_synonym': 'Aspirin component of robaxisal', 'syn_type': 'TRADE_NAME', 'synonyms': 'ASPIRIN COMPONENT OF ROBAXISAL'}, {'molecule_synonym': 'Aspirin component of roxiprin', 'syn_type': 'TRADE_NAME', 'synonyms': 'ASPIRIN COMPONENT OF ROXIPRIN'}, {'molecule_synonym': 'Aspirin component of soma compound', 'syn_type': 'TRADE_NAME', 'synonyms': 'ASPIRIN COMPONENT OF SOMA COMPOUND'}, {'molecule_synonym': 'Aspirin component of synalgos-dc', 'syn_type': 'TRADE_NAME', 'synonyms': 'ASPIRIN COMPONENT OF SYNALGOS-DC'}, {'molecule_synonym': 'Aspirin component of talwin compound', 'syn_type': 'TRADE_NAME', 'synonyms': 'ASPIRIN COMPONENT OF TALWIN COMPOUND'}, {'molecule_synonym': 'Aspirin component of vicoprin', 'syn_type': 'TRADE_NAME', 'synonyms': 'ASPIRIN COMPONENT OF VICOPRIN'}, {'molecule_synonym': 'Aspirin component of yosprala', 'syn_type': 'TRADE_NAME', 'synonyms': 'ASPIRIN COMPONENT OF YOSPRALA'}, {'molecule_synonym': 'Aspro clr', 'syn_type': 'TRADE_NAME', 'synonyms': 'ASPRO CLR'}, {'molecule_synonym': 'BAY1019036', 'syn_type': 'RESEARCH_CODE', 'synonyms': 'BAY1019036'}, {'molecule_synonym': 'Bayer extra strength aspirin for migraine pain', 'syn_type': 'TRADE_NAME', 'synonyms': 'BAYER EXTRA STRENGTH ASPIRIN FOR MIGRAINE PAIN'}, {'molecule_synonym': 'Benzoic acid, 2-(acetyloxy)-', 'syn_type': 'OTHER', 'synonyms': 'BENZOIC ACID, 2-(ACETYLOXY)-'}, {'molecule_synonym': 'Danamep', 'syn_type': 'TRADE_NAME', 'synonyms': 'DANAMEP'}, {'molecule_synonym': 'Disprin cv', 'syn_type': 'TRADE_NAME', 'synonyms': 'DISPRIN CV'}, {'molecule_synonym': 'Disprin direct', 'syn_type': 'TRADE_NAME', 'synonyms': 'DISPRIN DIRECT'}, {'molecule_synonym': 'Durlaza', 'syn_type': 'TRADE_NAME', 'synonyms': 'DURLAZA'}, {'molecule_synonym': 'Enprin', 'syn_type': 'TRADE_NAME', 'synonyms': 'ENPRIN'}, {'molecule_synonym': 'Equi-prin', 'syn_type': 'TRADE_NAME', 'synonyms': 'Equi-Prin'}, {'molecule_synonym': 'Gencardia', 'syn_type': 'TRADE_NAME', 'synonyms': 'GENCARDIA'}, {'molecule_synonym': 'Levius', 'syn_type': 'TRADE_NAME', 'synonyms': 'LEVIUS'}, {'molecule_synonym': 'Max strgh aspro clr', 'syn_type': 'TRADE_NAME', 'synonyms': 'MAX STRGH ASPRO CLR'}, {'molecule_synonym': 'Measurin', 'syn_type': 'TRADE_NAME', 'synonyms': 'MEASURIN'}, {'molecule_synonym': 'Micropirin ec', 'syn_type': 'TRADE_NAME', 'synonyms': 'MICROPIRIN EC'}, {'molecule_synonym': 'NSC-27223', 'syn_type': 'RESEARCH_CODE', 'synonyms': 'NSC-27223'}, {'molecule_synonym': 'NSC-406186', 'syn_type': 'RESEARCH_CODE', 'synonyms': 'NSC-406186'}, {'molecule_synonym': 'Nu-seals 300', 'syn_type': 'TRADE_NAME', 'synonyms': 'NU-SEALS 300'}, {'molecule_synonym': 'Nu-seals 600', 'syn_type': 'TRADE_NAME', 'synonyms': 'NU-SEALS 600'}, {'molecule_synonym': 'Nu-seals 75', 'syn_type': 'TRADE_NAME', 'synonyms': 'NU-SEALS 75'}, {'molecule_synonym': 'Nu-seals cardio 75', 'syn_type': 'TRADE_NAME', 'synonyms': 'NU-SEALS CARDIO 75'}, {'molecule_synonym': 'Paynocil', 'syn_type': 'TRADE_NAME', 'synonyms': 'PAYNOCIL'}, {'molecule_synonym': 'Platet', 'syn_type': 'TRADE_NAME', 'synonyms': 'PLATET'}, {'molecule_synonym': 'Platet 300', 'syn_type': 'TRADE_NAME', 'synonyms': 'PLATET 300'}, {'molecule_synonym': 'Postmi 300', 'syn_type': 'TRADE_NAME', 'synonyms': 'POSTMI 300'}, {'molecule_synonym': 'Postmi 75', 'syn_type': 'TRADE_NAME', 'synonyms': 'POSTMI 75'}, {'molecule_synonym': 'Salicylic acid acetate', 'syn_type': 'TRADE_NAME', 'synonyms': 'Salicylic Acid Acetate'}, {'molecule_synonym': 'Vazalore', 'syn_type': 'TRADE_NAME', 'synonyms': 'VAZALORE'}], 'molecule_type': 'Small molecule', 'natural_product': 1, 'oral': True, 'orphan': 0, 'parenteral': False, 'polymer_flag': 0, 'pref_name': 'ASPIRIN', 'prodrug': 0, 'structure_type': 'MOL', 'therapeutic_flag': True, 'topical': False, 'usan_stem': None, 'usan_stem_definition': None, 'usan_substem': None, 'usan_year': None, 'veterinary': 0, 'withdrawn_flag': False}]"
      ]
     },
     "execution_count": 2,
     "metadata": {},
     "output_type": "execute_result"
    }
   ],
   "source": [
    "from chembl_webresource_client.new_client import new_client\n",
    "\n",
    "molecule = new_client.molecule\n",
    "mols = molecule.filter(pref_name__iexact='aspirin')\n",
    "mols"
   ]
  },
  {
   "cell_type": "code",
   "execution_count": 3,
   "id": "436b7ced-7b1c-4a3c-a1a6-d888b1d3df89",
   "metadata": {},
   "outputs": [
    {
     "data": {
      "text/plain": [
       "[{'molecule_chembl_id': 'CHEMBL1737'}]"
      ]
     },
     "execution_count": 3,
     "metadata": {},
     "output_type": "execute_result"
    }
   ],
   "source": [
    "from chembl_webresource_client.new_client import new_client\n",
    "\n",
    "molecule = new_client.molecule\n",
    "mols = molecule.filter(molecule_synonyms__molecule_synonym__iexact='viagra').only('molecule_chembl_id')\n",
    "mols"
   ]
  },
  {
   "cell_type": "code",
   "execution_count": 4,
   "id": "848164cd-d90d-46b1-8edc-139a17c72583",
   "metadata": {},
   "outputs": [
    {
     "data": {
      "text/plain": [
       "[{'molecule_chembl_id': 'CHEMBL192', 'molecule_structures': {'canonical_smiles': 'CCCc1nn(C)c2c(=O)[nH]c(-c3cc(S(=O)(=O)N4CCN(C)CC4)ccc3OCC)nc12', 'molfile': '\\n     RDKit          2D\\n\\n 33 36  0  0  0  0  0  0  0  0999 V2000\\n    2.1000   -0.0042    0.0000 C   0  0  0  0  0  0  0  0  0  0  0  0\\n    2.1000    0.7000    0.0000 C   0  0  0  0  0  0  0  0  0  0  0  0\\n   -1.5375   -0.0042    0.0000 S   0  0  0  0  0  0  0  0  0  0  0  0\\n    1.4917   -0.3667    0.0000 N   0  0  0  0  0  0  0  0  0  0  0  0\\n    0.8792   -0.0042    0.0000 C   0  0  0  0  0  0  0  0  0  0  0  0\\n    2.8042    0.9083    0.0000 N   0  0  0  0  0  0  0  0  0  0  0  0\\n    1.4917    1.0625    0.0000 C   0  0  0  0  0  0  0  0  0  0  0  0\\n    0.8792    0.6833    0.0000 N   0  0  0  0  0  0  0  0  0  0  0  0\\n    3.2042    0.3458    0.0000 N   0  0  0  0  0  0  0  0  0  0  0  0\\n    2.8042   -0.2417    0.0000 C   0  0  0  0  0  0  0  0  0  0  0  0\\n    0.2875   -0.3750    0.0000 C   0  0  0  0  0  0  0  0  0  0  0  0\\n   -2.1583   -0.3750    0.0000 N   0  0  0  0  0  0  0  0  0  0  0  0\\n   -0.9333   -0.3750    0.0000 C   0  0  0  0  0  0  0  0  0  0  0  0\\n   -0.3208   -0.0333    0.0000 C   0  0  0  0  0  0  0  0  0  0  0  0\\n   -1.1875    0.6083    0.0000 O   0  0  0  0  0  0  0  0  0  0  0  0\\n   -1.8958    0.6083    0.0000 O   0  0  0  0  0  0  0  0  0  0  0  0\\n   -3.3958   -1.0917    0.0000 N   0  0  0  0  0  0  0  0  0  0  0  0\\n   -2.7833   -0.0042    0.0000 C   0  0  0  0  0  0  0  0  0  0  0  0\\n   -2.1583   -1.0917    0.0000 C   0  0  0  0  0  0  0  0  0  0  0  0\\n    0.2875   -1.1125    0.0000 C   0  0  0  0  0  0  0  0  0  0  0  0\\n    1.4917    1.7708    0.0000 O   0  0  0  0  0  0  0  0  0  0  0  0\\n   -0.9333   -1.1125    0.0000 C   0  0  0  0  0  0  0  0  0  0  0  0\\n   -0.3208   -1.4542    0.0000 C   0  0  0  0  0  0  0  0  0  0  0  0\\n   -3.3958   -0.3750    0.0000 C   0  0  0  0  0  0  0  0  0  0  0  0\\n   -2.7833   -1.4417    0.0000 C   0  0  0  0  0  0  0  0  0  0  0  0\\n    3.0750    1.5750    0.0000 C   0  0  0  0  0  0  0  0  0  0  0  0\\n    2.8042   -0.9500    0.0000 C   0  0  0  0  0  0  0  0  0  0  0  0\\n    0.8792   -1.4542    0.0000 O   0  0  0  0  0  0  0  0  0  0  0  0\\n   -3.9958   -1.4292    0.0000 C   0  0  0  0  0  0  0  0  0  0  0  0\\n    1.4958   -1.1000    0.0000 C   0  0  0  0  0  0  0  0  0  0  0  0\\n    3.4167   -1.3125    0.0000 C   0  0  0  0  0  0  0  0  0  0  0  0\\n    2.1125   -1.4500    0.0000 C   0  0  0  0  0  0  0  0  0  0  0  0\\n    4.0375   -0.9542    0.0000 C   0  0  0  0  0  0  0  0  0  0  0  0\\n  2  1  2  0\\n  3 13  1  0\\n  4  1  1  0\\n  5  4  2  0\\n  6  2  1  0\\n  7  2  1  0\\n  8  5  1  0\\n  9 10  2  0\\n 10  1  1  0\\n 11  5  1  0\\n 12  3  1  0\\n 13 14  2  0\\n 14 11  1  0\\n 15  3  2  0\\n 16  3  2  0\\n 17 25  1  0\\n 18 12  1  0\\n 19 12  1  0\\n 20 11  2  0\\n 21  7  2  0\\n 22 23  2  0\\n 23 20  1  0\\n 24 18  1  0\\n 25 19  1  0\\n 26  6  1  0\\n 27 10  1  0\\n 28 20  1  0\\n 29 17  1  0\\n 30 28  1  0\\n 31 27  1  0\\n 32 30  1  0\\n 33 31  1  0\\n  9  6  1  0\\n  8  7  1  0\\n 22 13  1  0\\n 17 24  1  0\\nM  END\\n> <chembl_id>\\nCHEMBL192\\n\\n> <chembl_pref_name>\\nSILDENAFIL', 'standard_inchi': 'InChI=1S/C22H30N6O4S/c1-5-7-17-19-20(27(4)25-17)22(29)24-21(23-19)16-14-15(8-9-18(16)32-6-2)33(30,31)28-12-10-26(3)11-13-28/h8-9,14H,5-7,10-13H2,1-4H3,(H,23,24,29)', 'standard_inchi_key': 'BNRNXUUZRGQAQC-UHFFFAOYSA-N'}, 'pref_name': 'SILDENAFIL'}]"
      ]
     },
     "execution_count": 4,
     "metadata": {},
     "output_type": "execute_result"
    }
   ],
   "source": [
    "from chembl_webresource_client.new_client import new_client\n",
    "\n",
    "molecule = new_client.molecule\n",
    "m1 = molecule.filter(chembl_id='CHEMBL192').only(['molecule_chembl_id', 'pref_name', 'molecule_structures'])\n",
    "m1"
   ]
  },
  {
   "cell_type": "code",
   "execution_count": 5,
   "id": "e9e16812-d180-48ff-99c8-7f3f1989f468",
   "metadata": {},
   "outputs": [
    {
     "data": {
      "text/plain": [
       "[{'molecule_chembl_id': 'CHEMBL25', 'pref_name': 'ASPIRIN'}, {'molecule_chembl_id': 'CHEMBL27', 'pref_name': 'PROPRANOLOL'}, {'molecule_chembl_id': 'CHEMBL192', 'pref_name': 'SILDENAFIL'}]"
      ]
     },
     "execution_count": 5,
     "metadata": {},
     "output_type": "execute_result"
    }
   ],
   "source": [
    "from chembl_webresource_client.new_client import new_client\n",
    "\n",
    "molecule = new_client.molecule\n",
    "mols = molecule.filter(molecule_chembl_id__in=['CHEMBL25', 'CHEMBL192', 'CHEMBL27']).only(['molecule_chembl_id', 'pref_name'])\n",
    "mols"
   ]
  },
  {
   "cell_type": "code",
   "execution_count": 6,
   "id": "d665a745-cf4c-41b5-b794-f98d4cb74cc7",
   "metadata": {},
   "outputs": [
    {
     "data": {
      "image/svg+xml": [
       "<svg xmlns=\"http://www.w3.org/2000/svg\" xmlns:rdkit=\"http://www.rdkit.org/xml\" xmlns:xlink=\"http://www.w3.org/1999/xlink\" version=\"1.1\" baseProfile=\"full\" xml:space=\"preserve\" width=\"500px\" height=\"500px\" viewBox=\"0 0 500 500\">\n",
       "<!-- END OF HEADER -->\n",
       "<path class=\"bond-0 atom-0 atom-1\" d=\"M 41.9,282.0 L 41.7,381.7\" style=\"fill:none;fill-rule:evenodd;stroke:#000000;stroke-width:2.0px;stroke-linecap:butt;stroke-linejoin:miter;stroke-opacity:1\"/>\n",
       "<path class=\"bond-0 atom-0 atom-1\" d=\"M 56.8,290.6 L 56.6,373.1\" style=\"fill:none;fill-rule:evenodd;stroke:#000000;stroke-width:2.0px;stroke-linecap:butt;stroke-linejoin:miter;stroke-opacity:1\"/>\n",
       "<path class=\"bond-1 atom-1 atom-2\" d=\"M 41.7,381.7 L 127.8,431.4\" style=\"fill:none;fill-rule:evenodd;stroke:#000000;stroke-width:2.0px;stroke-linecap:butt;stroke-linejoin:miter;stroke-opacity:1\"/>\n",
       "<path class=\"bond-2 atom-2 atom-3\" d=\"M 127.8,431.4 L 214.2,381.6\" style=\"fill:none;fill-rule:evenodd;stroke:#000000;stroke-width:2.0px;stroke-linecap:butt;stroke-linejoin:miter;stroke-opacity:1\"/>\n",
       "<path class=\"bond-2 atom-2 atom-3\" d=\"M 127.8,414.2 L 199.2,373.0\" style=\"fill:none;fill-rule:evenodd;stroke:#000000;stroke-width:2.0px;stroke-linecap:butt;stroke-linejoin:miter;stroke-opacity:1\"/>\n",
       "<path class=\"bond-3 atom-3 atom-4\" d=\"M 214.2,381.6 L 213.8,281.6\" style=\"fill:none;fill-rule:evenodd;stroke:#000000;stroke-width:2.0px;stroke-linecap:butt;stroke-linejoin:miter;stroke-opacity:1\"/>\n",
       "<path class=\"bond-4 atom-4 atom-5\" d=\"M 213.8,281.6 L 127.6,232.3\" style=\"fill:none;fill-rule:evenodd;stroke:#000000;stroke-width:2.0px;stroke-linecap:butt;stroke-linejoin:miter;stroke-opacity:1\"/>\n",
       "<path class=\"bond-4 atom-4 atom-5\" d=\"M 198.9,290.2 L 127.7,249.5\" style=\"fill:none;fill-rule:evenodd;stroke:#000000;stroke-width:2.0px;stroke-linecap:butt;stroke-linejoin:miter;stroke-opacity:1\"/>\n",
       "<path class=\"bond-5 atom-5 atom-0\" d=\"M 127.6,232.3 L 41.9,282.0\" style=\"fill:none;fill-rule:evenodd;stroke:#000000;stroke-width:2.0px;stroke-linecap:butt;stroke-linejoin:miter;stroke-opacity:1\"/>\n",
       "<path class=\"bond-6 atom-5 atom-6\" d=\"M 127.6,232.3 L 127.3,132.8\" style=\"fill:none;fill-rule:evenodd;stroke:#000000;stroke-width:2.0px;stroke-linecap:butt;stroke-linejoin:miter;stroke-opacity:1\"/>\n",
       "<path class=\"bond-7 atom-6 atom-7\" d=\"M 127.3,132.8 L 162.2,112.6\" style=\"fill:none;fill-rule:evenodd;stroke:#000000;stroke-width:2.0px;stroke-linecap:butt;stroke-linejoin:miter;stroke-opacity:1\"/>\n",
       "<path class=\"bond-7 atom-6 atom-7\" d=\"M 162.2,112.6 L 197.0,92.3\" style=\"fill:none;fill-rule:evenodd;stroke:#FF0000;stroke-width:2.0px;stroke-linecap:butt;stroke-linejoin:miter;stroke-opacity:1\"/>\n",
       "<path class=\"bond-8 atom-6 atom-8\" d=\"M 134.8,128.5 L 97.9,107.4\" style=\"fill:none;fill-rule:evenodd;stroke:#000000;stroke-width:2.0px;stroke-linecap:butt;stroke-linejoin:miter;stroke-opacity:1\"/>\n",
       "<path class=\"bond-8 atom-6 atom-8\" d=\"M 97.9,107.4 L 61.1,86.3\" style=\"fill:none;fill-rule:evenodd;stroke:#FF0000;stroke-width:2.0px;stroke-linecap:butt;stroke-linejoin:miter;stroke-opacity:1\"/>\n",
       "<path class=\"bond-8 atom-6 atom-8\" d=\"M 127.3,141.5 L 90.5,120.3\" style=\"fill:none;fill-rule:evenodd;stroke:#000000;stroke-width:2.0px;stroke-linecap:butt;stroke-linejoin:miter;stroke-opacity:1\"/>\n",
       "<path class=\"bond-8 atom-6 atom-8\" d=\"M 90.5,120.3 L 53.7,99.2\" style=\"fill:none;fill-rule:evenodd;stroke:#FF0000;stroke-width:2.0px;stroke-linecap:butt;stroke-linejoin:miter;stroke-opacity:1\"/>\n",
       "<path class=\"bond-9 atom-4 atom-9\" d=\"M 213.8,281.6 L 248.6,261.3\" style=\"fill:none;fill-rule:evenodd;stroke:#000000;stroke-width:2.0px;stroke-linecap:butt;stroke-linejoin:miter;stroke-opacity:1\"/>\n",
       "<path class=\"bond-9 atom-4 atom-9\" d=\"M 248.6,261.3 L 283.4,241.0\" style=\"fill:none;fill-rule:evenodd;stroke:#FF0000;stroke-width:2.0px;stroke-linecap:butt;stroke-linejoin:miter;stroke-opacity:1\"/>\n",
       "<path class=\"bond-10 atom-9 atom-10\" d=\"M 316.0,240.8 L 351.0,260.9\" style=\"fill:none;fill-rule:evenodd;stroke:#FF0000;stroke-width:2.0px;stroke-linecap:butt;stroke-linejoin:miter;stroke-opacity:1\"/>\n",
       "<path class=\"bond-10 atom-9 atom-10\" d=\"M 351.0,260.9 L 386.0,280.9\" style=\"fill:none;fill-rule:evenodd;stroke:#000000;stroke-width:2.0px;stroke-linecap:butt;stroke-linejoin:miter;stroke-opacity:1\"/>\n",
       "<path class=\"bond-11 atom-10 atom-11\" d=\"M 386.0,280.9 L 471.9,230.9\" style=\"fill:none;fill-rule:evenodd;stroke:#000000;stroke-width:2.0px;stroke-linecap:butt;stroke-linejoin:miter;stroke-opacity:1\"/>\n",
       "<path class=\"bond-12 atom-10 atom-12\" d=\"M 378.5,276.6 L 378.7,319.7\" style=\"fill:none;fill-rule:evenodd;stroke:#000000;stroke-width:2.0px;stroke-linecap:butt;stroke-linejoin:miter;stroke-opacity:1\"/>\n",
       "<path class=\"bond-12 atom-10 atom-12\" d=\"M 378.7,319.7 L 378.9,362.7\" style=\"fill:none;fill-rule:evenodd;stroke:#FF0000;stroke-width:2.0px;stroke-linecap:butt;stroke-linejoin:miter;stroke-opacity:1\"/>\n",
       "<path class=\"bond-12 atom-10 atom-12\" d=\"M 393.4,276.6 L 393.6,319.6\" style=\"fill:none;fill-rule:evenodd;stroke:#000000;stroke-width:2.0px;stroke-linecap:butt;stroke-linejoin:miter;stroke-opacity:1\"/>\n",
       "<path class=\"bond-12 atom-10 atom-12\" d=\"M 393.6,319.6 L 393.8,362.7\" style=\"fill:none;fill-rule:evenodd;stroke:#FF0000;stroke-width:2.0px;stroke-linecap:butt;stroke-linejoin:miter;stroke-opacity:1\"/>\n",
       "<path d=\"M 41.8,287.0 L 41.9,282.0 L 46.1,279.5\" style=\"fill:none;stroke:#000000;stroke-width:2.0px;stroke-linecap:butt;stroke-linejoin:miter;stroke-opacity:1;\"/>\n",
       "<path d=\"M 41.7,376.7 L 41.7,381.7 L 46.0,384.2\" style=\"fill:none;stroke:#000000;stroke-width:2.0px;stroke-linecap:butt;stroke-linejoin:miter;stroke-opacity:1;\"/>\n",
       "<path d=\"M 123.5,428.9 L 127.8,431.4 L 132.2,428.9\" style=\"fill:none;stroke:#000000;stroke-width:2.0px;stroke-linecap:butt;stroke-linejoin:miter;stroke-opacity:1;\"/>\n",
       "<path d=\"M 209.9,384.1 L 214.2,381.6 L 214.1,376.6\" style=\"fill:none;stroke:#000000;stroke-width:2.0px;stroke-linecap:butt;stroke-linejoin:miter;stroke-opacity:1;\"/>\n",
       "<path d=\"M 127.3,137.8 L 127.3,132.8 L 129.1,131.8\" style=\"fill:none;stroke:#000000;stroke-width:2.0px;stroke-linecap:butt;stroke-linejoin:miter;stroke-opacity:1;\"/>\n",
       "<path d=\"M 384.3,279.9 L 386.0,280.9 L 390.3,278.4\" style=\"fill:none;stroke:#000000;stroke-width:2.0px;stroke-linecap:butt;stroke-linejoin:miter;stroke-opacity:1;\"/>\n",
       "<path class=\"atom-7\" d=\"M 200.3 83.0 Q 200.3 76.2, 203.6 72.4 Q 207.0 68.6, 213.3 68.6 Q 219.5 68.6, 222.9 72.4 Q 226.3 76.2, 226.3 83.0 Q 226.3 89.8, 222.9 93.8 Q 219.5 97.6, 213.3 97.6 Q 207.0 97.6, 203.6 93.8 Q 200.3 89.9, 200.3 83.0 M 213.3 94.4 Q 217.6 94.4, 219.9 91.6 Q 222.3 88.6, 222.3 83.0 Q 222.3 77.4, 219.9 74.6 Q 217.6 71.8, 213.3 71.8 Q 208.9 71.8, 206.6 74.6 Q 204.3 77.4, 204.3 83.0 Q 204.3 88.7, 206.6 91.6 Q 208.9 94.4, 213.3 94.4 \" fill=\"#FF0000\"/>\n",
       "<path class=\"atom-7\" d=\"M 230.7 68.9 L 234.5 68.9 L 234.5 80.9 L 249.0 80.9 L 249.0 68.9 L 252.8 68.9 L 252.8 97.2 L 249.0 97.2 L 249.0 84.1 L 234.5 84.1 L 234.5 97.2 L 230.7 97.2 L 230.7 68.9 \" fill=\"#FF0000\"/>\n",
       "<path class=\"atom-8\" d=\"M 28.1 83.5 Q 28.1 76.7, 31.4 72.9 Q 34.8 69.1, 41.1 69.1 Q 47.4 69.1, 50.7 72.9 Q 54.1 76.7, 54.1 83.5 Q 54.1 90.4, 50.7 94.3 Q 47.3 98.2, 41.1 98.2 Q 34.8 98.2, 31.4 94.3 Q 28.1 90.4, 28.1 83.5 M 41.1 95.0 Q 45.4 95.0, 47.7 92.1 Q 50.1 89.2, 50.1 83.5 Q 50.1 77.9, 47.7 75.1 Q 45.4 72.3, 41.1 72.3 Q 36.8 72.3, 34.4 75.1 Q 32.1 77.9, 32.1 83.5 Q 32.1 89.2, 34.4 92.1 Q 36.8 95.0, 41.1 95.0 \" fill=\"#FF0000\"/>\n",
       "<path class=\"atom-9\" d=\"M 286.7 231.6 Q 286.7 224.8, 290.1 221.0 Q 293.4 217.2, 299.7 217.2 Q 306.0 217.2, 309.4 221.0 Q 312.7 224.8, 312.7 231.6 Q 312.7 238.5, 309.3 242.4 Q 305.9 246.3, 299.7 246.3 Q 293.5 246.3, 290.1 242.4 Q 286.7 238.5, 286.7 231.6 M 299.7 243.1 Q 304.0 243.1, 306.4 240.2 Q 308.7 237.3, 308.7 231.6 Q 308.7 226.0, 306.4 223.2 Q 304.0 220.4, 299.7 220.4 Q 295.4 220.4, 293.0 223.2 Q 290.7 226.0, 290.7 231.6 Q 290.7 237.3, 293.0 240.2 Q 295.4 243.1, 299.7 243.1 \" fill=\"#FF0000\"/>\n",
       "<path class=\"atom-12\" d=\"M 373.4 380.4 Q 373.4 373.6, 376.7 369.8 Q 380.1 366.0, 386.4 366.0 Q 392.7 366.0, 396.0 369.8 Q 399.4 373.6, 399.4 380.4 Q 399.4 387.3, 396.0 391.2 Q 392.6 395.1, 386.4 395.1 Q 380.1 395.1, 376.7 391.2 Q 373.4 387.3, 373.4 380.4 M 386.4 391.9 Q 390.7 391.9, 393.0 389.0 Q 395.4 386.1, 395.4 380.4 Q 395.4 374.8, 393.0 372.0 Q 390.7 369.2, 386.4 369.2 Q 382.1 369.2, 379.7 372.0 Q 377.4 374.8, 377.4 380.4 Q 377.4 386.1, 379.7 389.0 Q 382.1 391.9, 386.4 391.9 \" fill=\"#FF0000\"/>\n",
       "</svg>"
      ],
      "text/plain": [
       "<IPython.core.display.SVG object>"
      ]
     },
     "execution_count": 6,
     "metadata": {},
     "output_type": "execute_result"
    }
   ],
   "source": [
    "from chembl_webresource_client.new_client import new_client\n",
    "from IPython.display import SVG\n",
    "\n",
    "image = new_client.image\n",
    "image.set_format('svg')\n",
    "SVG(image.get('CHEMBL25'))"
   ]
  },
  {
   "cell_type": "code",
   "execution_count": 7,
   "id": "af8b4130-e99f-47da-9c1b-d9d2771f7b5f",
   "metadata": {},
   "outputs": [
    {
     "data": {
      "text/plain": [
       "[{'molecule_chembl_id': 'CHEMBL25', 'molecule_structures': {'canonical_smiles': 'CC(=O)Oc1ccccc1C(=O)O', 'molfile': '\\n     RDKit          2D\\n\\n 13 13  0  0  0  0  0  0  0  0999 V2000\\n   19.8052   -4.2758    0.0000 C   0  0  0  0  0  0  0  0  0  0  0  0\\n   19.8040   -5.0953    0.0000 C   0  0  0  0  0  0  0  0  0  0  0  0\\n   20.5121   -5.5043    0.0000 C   0  0  0  0  0  0  0  0  0  0  0  0\\n   21.2217   -5.0948    0.0000 C   0  0  0  0  0  0  0  0  0  0  0  0\\n   21.2189   -4.2722    0.0000 C   0  0  0  0  0  0  0  0  0  0  0  0\\n   20.5103   -3.8669    0.0000 C   0  0  0  0  0  0  0  0  0  0  0  0\\n   20.5078   -3.0497    0.0000 C   0  0  0  0  0  0  0  0  0  0  0  0\\n   21.2143   -2.6390    0.0000 O   0  0  0  0  0  0  0  0  0  0  0  0\\n   19.7989   -2.6432    0.0000 O   0  0  0  0  0  0  0  0  0  0  0  0\\n   21.9250   -3.8609    0.0000 O   0  0  0  0  0  0  0  0  0  0  0  0\\n   22.6343   -4.2668    0.0000 C   0  0  0  0  0  0  0  0  0  0  0  0\\n   23.3405   -3.8556    0.0000 C   0  0  0  0  0  0  0  0  0  0  0  0\\n   22.6374   -5.0840    0.0000 O   0  0  0  0  0  0  0  0  0  0  0  0\\n  1  2  2  0\\n  2  3  1  0\\n  3  4  2  0\\n  4  5  1  0\\n  5  6  2  0\\n  6  1  1  0\\n  6  7  1  0\\n  7  8  1  0\\n  7  9  2  0\\n  5 10  1  0\\n 10 11  1  0\\n 11 12  1  0\\n 11 13  2  0\\nM  END\\n> <chembl_id>\\nCHEMBL25\\n\\n> <chembl_pref_name>\\nASPIRIN', 'standard_inchi': 'InChI=1S/C9H8O4/c1-6(10)13-8-5-3-2-4-7(8)9(11)12/h2-5H,1H3,(H,11,12)', 'standard_inchi_key': 'BSYNRYMUTXBXSQ-UHFFFAOYSA-N'}, 'pref_name': 'ASPIRIN'}]"
      ]
     },
     "execution_count": 7,
     "metadata": {},
     "output_type": "execute_result"
    }
   ],
   "source": [
    "from chembl_webresource_client.new_client import new_client\n",
    "\n",
    "molecule = new_client.molecule\n",
    "mol = molecule.filter(molecule_structures__standard_inchi_key='BSYNRYMUTXBXSQ-UHFFFAOYSA-N').only(['molecule_chembl_id', 'pref_name', 'molecule_structures'])\n",
    "mol"
   ]
  },
  {
   "cell_type": "code",
   "execution_count": 8,
   "id": "4f164333-a114-49c8-8ed3-44732336a373",
   "metadata": {},
   "outputs": [
    {
     "name": "stderr",
     "output_type": "stream",
     "text": [
      "<>:4: SyntaxWarning: invalid escape sequence '\\C'\n",
      "<>:4: SyntaxWarning: invalid escape sequence '\\C'\n",
      "C:\\Users\\arthu\\AppData\\Local\\Temp\\ipykernel_9508\\3805772535.py:4: SyntaxWarning: invalid escape sequence '\\C'\n",
      "  res = similarity.filter(smiles=\"CO[C@@H](CCC#C\\C=C/CCCC(C)CCCCC=C)C(=O)[O-]\", similarity=70).only(['molecule_chembl_id', 'similarity'])\n"
     ]
    },
    {
     "name": "stdout",
     "output_type": "stream",
     "text": [
      "{'molecule_chembl_id': 'CHEMBL478779', 'similarity': '100'}\n",
      "{'molecule_chembl_id': 'CHEMBL477889', 'similarity': '100'}\n",
      "{'molecule_chembl_id': 'CHEMBL477888', 'similarity': '100'}\n",
      "{'molecule_chembl_id': 'CHEMBL449975', 'similarity': '72.9166686534881591796875'}\n",
      "{'molecule_chembl_id': 'CHEMBL499009', 'similarity': '72.9166686534881591796875'}\n",
      "{'molecule_chembl_id': 'CHEMBL2304268', 'similarity': '71.428573131561279296875'}\n"
     ]
    }
   ],
   "source": [
    "from chembl_webresource_client.new_client import new_client\n",
    "\n",
    "similarity = new_client.similarity\n",
    "res = similarity.filter(smiles=\"CO[C@@H](CCC#C\\C=C/CCCC(C)CCCCC=C)C(=O)[O-]\", similarity=70).only(['molecule_chembl_id', 'similarity'])\n",
    "for i in res:\n",
    "    print(i)"
   ]
  },
  {
   "cell_type": "code",
   "execution_count": 9,
   "id": "b3572be2-979f-4b4c-a196-affc794ab13d",
   "metadata": {},
   "outputs": [
    {
     "data": {
      "text/plain": [
       "[{'molecule_chembl_id': 'CHEMBL2296002', 'pref_name': None, 'similarity': '100'}, {'molecule_chembl_id': 'CHEMBL1697753', 'pref_name': 'ASPIRIN DL-LYSINE', 'similarity': '100'}, {'molecule_chembl_id': 'CHEMBL3833404', 'pref_name': 'CARBASPIRIN', 'similarity': '88.8888895511627197265625'}, {'molecule_chembl_id': 'CHEMBL3833325', 'pref_name': 'CARBASPIRIN CALCIUM', 'similarity': '88.8888895511627197265625'}, '...(remaining elements truncated)...']"
      ]
     },
     "execution_count": 9,
     "metadata": {},
     "output_type": "execute_result"
    }
   ],
   "source": [
    "from chembl_webresource_client.new_client import new_client\n",
    "\n",
    "similarity = new_client.similarity\n",
    "res = similarity.filter(chembl_id='CHEMBL25', similarity=70).only(['molecule_chembl_id', 'pref_name', 'similarity'])\n",
    "res"
   ]
  },
  {
   "cell_type": "code",
   "execution_count": 10,
   "id": "fabf7a32-ec44-450e-afdf-c2317b7f19f9",
   "metadata": {},
   "outputs": [
    {
     "name": "stdout",
     "output_type": "stream",
     "text": [
      "{'molecule_chembl_id': 'CHEMBL1431', 'pref_name': 'METFORMIN'}\n",
      "{'molecule_chembl_id': 'CHEMBL1703', 'pref_name': 'METFORMIN HYDROCHLORIDE'}\n",
      "{'molecule_chembl_id': 'CHEMBL3094198', 'pref_name': None}\n"
     ]
    }
   ],
   "source": [
    "from chembl_webresource_client.new_client import new_client\n",
    "\n",
    "molecule = new_client.molecule\n",
    "res = molecule.filter(molecule_structures__canonical_smiles__connectivity='CN(C)C(=N)N=C(N)N').only(['molecule_chembl_id', 'pref_name'])\n",
    "for i in res:\n",
    "    print(i)"
   ]
  },
  {
   "cell_type": "code",
   "execution_count": 11,
   "id": "23c5ac3c-117c-4aaa-8e85-34c63b507816",
   "metadata": {},
   "outputs": [
    {
     "data": {
      "text/plain": [
       "[{'atc_classifications': ['V03AN03'], 'availability_type': 1, 'biotherapeutic': None, 'black_box_warning': 0, 'chemical_probe': 0, 'chirality': 2, 'cross_references': [], 'dosed_ingredient': True, 'first_approval': 2015, 'first_in_class': 0, 'helm_notation': None, 'inorganic_flag': 1, 'max_phase': '4.0', 'molecule_chembl_id': 'CHEMBL1796997', 'molecule_hierarchy': {'active_chembl_id': 'CHEMBL1796997', 'molecule_chembl_id': 'CHEMBL1796997', 'parent_chembl_id': 'CHEMBL1796997'}, 'molecule_properties': {'alogp': None, 'aromatic_rings': None, 'full_molformula': 'He', 'full_mwt': '4.00', 'hba': None, 'hbd': None, 'heavy_atoms': None, 'mw_freebase': '4.00', 'np_likeness_score': None, 'num_ro5_violations': None, 'psa': None, 'qed_weighted': None, 'ro3_pass': None, 'rtb': None}, 'molecule_structures': {'canonical_smiles': '[He]', 'molfile': '\\n     RDKit          2D\\n\\n  1  0  0  0  0  0  0  0  0  0999 V2000\\n   -0.1083    0.0500    0.0000 He  0  0  0  0  0 15  0  0  0  0  0  0\\nM  END\\n> <chembl_id>\\nCHEMBL1796997\\n\\n> <chembl_pref_name>\\nHELIUM', 'standard_inchi': 'InChI=1S/He', 'standard_inchi_key': 'SWQJXJOGLNCZEY-UHFFFAOYSA-N'}, 'molecule_synonyms': [{'molecule_synonym': 'E-939', 'syn_type': 'RESEARCH_CODE', 'synonyms': 'E-939'}, {'molecule_synonym': 'E939', 'syn_type': 'E_NUMBER', 'synonyms': 'E939'}, {'molecule_synonym': 'Helium', 'syn_type': 'ATC', 'synonyms': 'HELIUM'}, {'molecule_synonym': 'Helium', 'syn_type': 'FDA', 'synonyms': 'HELIUM'}, {'molecule_synonym': 'Helium', 'syn_type': 'MERCK_INDEX', 'synonyms': 'HELIUM'}, {'molecule_synonym': 'Helium', 'syn_type': 'OTHER', 'synonyms': 'HELIUM'}, {'molecule_synonym': 'Helium-4', 'syn_type': 'OTHER', 'synonyms': 'HELIUM-4'}, {'molecule_synonym': 'INS-939', 'syn_type': 'RESEARCH_CODE', 'synonyms': 'INS-939'}, {'molecule_synonym': 'INS NO.939', 'syn_type': 'RESEARCH_CODE', 'synonyms': 'INS NO.939'}], 'molecule_type': 'Small molecule', 'natural_product': 1, 'oral': False, 'orphan': 0, 'parenteral': False, 'polymer_flag': 0, 'pref_name': 'HELIUM', 'prodrug': 0, 'structure_type': 'MOL', 'therapeutic_flag': False, 'topical': True, 'usan_stem': '-ium', 'usan_stem_definition': 'quaternary ammonium derivatives', 'usan_substem': '-ium', 'usan_year': None, 'veterinary': 0, 'withdrawn_flag': False}, {'atc_classifications': [], 'availability_type': 1, 'biotherapeutic': None, 'black_box_warning': 0, 'chemical_probe': 0, 'chirality': 2, 'cross_references': [], 'dosed_ingredient': False, 'first_approval': 2007, 'first_in_class': 0, 'helm_notation': None, 'inorganic_flag': 0, 'max_phase': '4.0', 'molecule_chembl_id': 'CHEMBL1160819', 'molecule_hierarchy': {'active_chembl_id': 'CHEMBL1160819', 'molecule_chembl_id': 'CHEMBL1160819', 'parent_chembl_id': 'CHEMBL1160819'}, 'molecule_properties': {'alogp': '0.16', 'aromatic_rings': 0, 'full_molformula': 'H3N', 'full_mwt': '17.03', 'hba': 1, 'hbd': 1, 'heavy_atoms': 1, 'mw_freebase': '17.03', 'np_likeness_score': '0.00', 'num_ro5_violations': 0, 'psa': '35.00', 'qed_weighted': '0.40', 'ro3_pass': 'Y', 'rtb': 0}, 'molecule_structures': {'canonical_smiles': 'N', 'molfile': '\\n     RDKit          2D\\n\\n  1  0  0  0  0  0  0  0  0  0999 V2000\\n    0.0375    0.0500    0.0000 N   0  0  0  0  0  0  0  0  0  0  0  0\\nM  END\\n> <chembl_id>\\nCHEMBL1160819\\n\\n> <chembl_pref_name>\\nAMMONIA SOLUTION, STRONG', 'standard_inchi': 'InChI=1S/H3N/h1H3', 'standard_inchi_key': 'QGZKDVFQNNGYKY-UHFFFAOYSA-N'}, 'molecule_synonyms': [{'molecule_synonym': 'Ammonia', 'syn_type': 'MERCK_INDEX', 'synonyms': 'AMMONIA'}, {'molecule_synonym': 'Ammonia', 'syn_type': 'OTHER', 'synonyms': 'AMMONIA'}, {'molecule_synonym': 'Ammonia,aromatic', 'syn_type': 'OTHER', 'synonyms': 'AMMONIA,AROMATIC'}, {'molecule_synonym': 'Ammonia gas', 'syn_type': 'OTHER', 'synonyms': 'AMMONIA GAS'}, {'molecule_synonym': 'Ammonia solution', 'syn_type': 'OTHER', 'synonyms': 'AMMONIA SOLUTION'}, {'molecule_synonym': 'Ammonia-solution', 'syn_type': 'OTHER', 'synonyms': 'AMMONIA-SOLUTION'}, {'molecule_synonym': 'Ammonia solution, strong', 'syn_type': 'OTHER', 'synonyms': 'AMMONIA SOLUTION, STRONG'}, {'molecule_synonym': 'Ammonia water', 'syn_type': 'MERCK_INDEX', 'synonyms': 'AMMONIA WATER'}, {'molecule_synonym': 'Ammonia water', 'syn_type': 'OTHER', 'synonyms': 'AMMONIA WATER'}, {'molecule_synonym': 'Ammonium causticum', 'syn_type': 'OTHER', 'synonyms': 'AMMONIUM CAUSTICUM'}, {'molecule_synonym': 'Ammonium hydroxide', 'syn_type': 'OTHER', 'synonyms': 'AMMONIUM HYDROXIDE'}, {'molecule_synonym': 'Ammonium water', 'syn_type': 'OTHER', 'synonyms': 'AMMONIUM WATER'}, {'molecule_synonym': 'Aqua ammonia', 'syn_type': 'OTHER', 'synonyms': 'AQUA AMMONIA'}, {'molecule_synonym': 'Aqueous ammonia', 'syn_type': 'OTHER', 'synonyms': 'AQUEOUS AMMONIA'}, {'molecule_synonym': 'E-527', 'syn_type': 'RESEARCH_CODE', 'synonyms': 'E-527'}, {'molecule_synonym': 'INS-527', 'syn_type': 'RESEARCH_CODE', 'synonyms': 'INS-527'}, {'molecule_synonym': 'INS NO.527', 'syn_type': 'RESEARCH_CODE', 'synonyms': 'INS NO.527'}, {'molecule_synonym': 'Nitro-sil', 'syn_type': 'OTHER', 'synonyms': 'NITRO-SIL'}, {'molecule_synonym': 'R 717 (ammonia)', 'syn_type': 'OTHER', 'synonyms': 'R 717 (AMMONIA)'}, {'molecule_synonym': 'Refrigerent r717', 'syn_type': 'OTHER', 'synonyms': 'REFRIGERENT R717'}, {'molecule_synonym': 'Spirit of hartshorn', 'syn_type': 'OTHER', 'synonyms': 'SPIRIT OF HARTSHORN'}, {'molecule_synonym': 'Strong ammonia solution', 'syn_type': 'OTHER', 'synonyms': 'STRONG AMMONIA SOLUTION'}, {'molecule_synonym': 'Strong-ammonia solution', 'syn_type': 'OTHER', 'synonyms': 'STRONG-AMMONIA SOLUTION'}], 'molecule_type': 'Small molecule', 'natural_product': 1, 'oral': False, 'orphan': 0, 'parenteral': True, 'polymer_flag': 0, 'pref_name': 'AMMONIA SOLUTION, STRONG', 'prodrug': 0, 'structure_type': 'MOL', 'therapeutic_flag': False, 'topical': False, 'usan_stem': None, 'usan_stem_definition': None, 'usan_substem': None, 'usan_year': 1990, 'veterinary': 0, 'withdrawn_flag': False}, {'atc_classifications': ['V09GX05'], 'availability_type': 1, 'biotherapeutic': None, 'black_box_warning': 0, 'chemical_probe': 0, 'chirality': 2, 'cross_references': [{'xref_id': 'ammonia%20n-13', 'xref_name': 'ammonia n-13', 'xref_src': 'DailyMed'}], 'dosed_ingredient': True, 'first_approval': 2007, 'first_in_class': 0, 'helm_notation': None, 'inorganic_flag': 0, 'max_phase': '4.0', 'molecule_chembl_id': 'CHEMBL1201189', 'molecule_hierarchy': {'active_chembl_id': 'CHEMBL1160819', 'molecule_chembl_id': 'CHEMBL1201189', 'parent_chembl_id': 'CHEMBL1160819'}, 'molecule_properties': {'alogp': '0.16', 'aromatic_rings': 0, 'full_molformula': 'H3N', 'full_mwt': '16.03', 'hba': 1, 'hbd': 1, 'heavy_atoms': 1, 'mw_freebase': '17.03', 'np_likeness_score': '0.00', 'num_ro5_violations': 0, 'psa': '35.00', 'qed_weighted': '0.40', 'ro3_pass': 'Y', 'rtb': 0}, 'molecule_structures': {'canonical_smiles': '[13NH3]', 'molfile': '\\n     RDKit          2D\\n\\n  1  0  0  0  0  0  0  0  0  0999 V2000\\n    3.2125   -1.7500    0.0000 N   0  0  0  0  0  0  0  0  0  0  0  0\\nM  ISO  1   1  13\\nM  END\\n> <chembl_id>\\nCHEMBL1201189\\n\\n> <chembl_pref_name>\\nAMMONIA N 13', 'standard_inchi': 'InChI=1S/H3N/h1H3/i1-1', 'standard_inchi_key': 'QGZKDVFQNNGYKY-BJUDXGSMSA-N'}, 'molecule_synonyms': [{'molecule_synonym': '13n', 'syn_type': 'OTHER', 'synonyms': '13N'}, {'molecule_synonym': 'Ammonia (13n)', 'syn_type': 'ATC', 'synonyms': 'AMMONIA (13N)'}, {'molecule_synonym': 'Ammonia (13n)', 'syn_type': 'OTHER', 'synonyms': 'AMMONIA (13N)'}, {'molecule_synonym': 'Ammonia n 13', 'syn_type': 'OTHER', 'synonyms': 'AMMONIA N 13'}, {'molecule_synonym': 'Ammonia n 13', 'syn_type': 'TRADE_NAME', 'synonyms': 'AMMONIA N 13'}, {'molecule_synonym': 'Ammonia n 13', 'syn_type': 'USAN', 'synonyms': 'AMMONIA N 13'}, {'molecule_synonym': 'Ammonia n 13', 'syn_type': 'USP', 'synonyms': 'AMMONIA N 13'}, {'molecule_synonym': 'Ammonia n-13', 'syn_type': 'FDA', 'synonyms': 'AMMONIA N-13'}, {'molecule_synonym': 'Ammonia, n-13', 'syn_type': 'OTHER', 'synonyms': 'AMMONIA, N-13'}, {'molecule_synonym': 'Ammonia-(sup 13)n', 'syn_type': 'OTHER', 'synonyms': 'AMMONIA-(SUP 13)N'}, {'molecule_synonym': '((sup 13)n)ammonia', 'syn_type': 'OTHER', 'synonyms': '((SUP 13)N)AMMONIA'}], 'molecule_type': 'Small molecule', 'natural_product': 1, 'oral': False, 'orphan': 0, 'parenteral': True, 'polymer_flag': 0, 'pref_name': 'AMMONIA N 13', 'prodrug': 0, 'structure_type': 'MOL', 'therapeutic_flag': False, 'topical': False, 'usan_stem': None, 'usan_stem_definition': None, 'usan_substem': None, 'usan_year': 1990, 'veterinary': 0, 'withdrawn_flag': False}, {'atc_classifications': [], 'availability_type': 2, 'biotherapeutic': None, 'black_box_warning': 0, 'chemical_probe': 0, 'chirality': 2, 'cross_references': [{'xref_id': 'purified%20water', 'xref_name': 'purified water', 'xref_src': 'DailyMed'}, {'xref_id': 'sterile%20water%20for%20irrigation', 'xref_name': 'sterile water for irrigation', 'xref_src': 'DailyMed'}], 'dosed_ingredient': True, 'first_approval': 1982, 'first_in_class': 0, 'helm_notation': None, 'inorganic_flag': 0, 'max_phase': '4.0', 'molecule_chembl_id': 'CHEMBL1098659', 'molecule_hierarchy': {'active_chembl_id': 'CHEMBL1098659', 'molecule_chembl_id': 'CHEMBL1098659', 'parent_chembl_id': 'CHEMBL1098659'}, 'molecule_properties': {'alogp': '-0.82', 'aromatic_rings': 0, 'full_molformula': 'H2O', 'full_mwt': '18.02', 'hba': 0, 'hbd': 0, 'heavy_atoms': 1, 'mw_freebase': '18.02', 'np_likeness_score': '0.00', 'num_ro5_violations': 0, 'psa': '31.50', 'qed_weighted': '0.33', 'ro3_pass': 'Y', 'rtb': 0}, 'molecule_structures': {'canonical_smiles': 'O', 'molfile': '\\n     RDKit          2D\\n\\n  1  0  0  0  0  0  0  0  0  0999 V2000\\n   -2.3458    2.0333    0.0000 O   0  0  0  0  0  0  0  0  0  0  0  0\\nM  END\\n> <chembl_id>\\nCHEMBL1098659\\n\\n> <chembl_pref_name>\\nWATER', 'standard_inchi': 'InChI=1S/H2O/h1H2', 'standard_inchi_key': 'XLYOFNOQVPJJNP-UHFFFAOYSA-N'}, 'molecule_synonyms': [{'molecule_synonym': 'Adelheid aqua', 'syn_type': 'OTHER', 'synonyms': 'ADELHEID AQUA'}, {'molecule_synonym': 'Adelheidsquelle', 'syn_type': 'OTHER', 'synonyms': 'ADELHEIDSQUELLE'}, {'molecule_synonym': 'Aqua adelheid', 'syn_type': 'OTHER', 'synonyms': 'AQUA ADELHEID'}, {'molecule_synonym': 'Aqua pro injectione', 'syn_type': 'OTHER', 'synonyms': 'AQUA PRO INJECTIONE'}, {'molecule_synonym': 'Aqua purificata', 'syn_type': 'OTHER', 'synonyms': 'AQUA PURIFICATA'}, {'molecule_synonym': 'Aqua sterilisata pro injectione', 'syn_type': 'OTHER', 'synonyms': 'AQUA STERILISATA PRO INJECTIONE'}, {'molecule_synonym': 'Aqua wiesbaden', 'syn_type': 'OTHER', 'synonyms': 'AQUA WIESBADEN'}, {'molecule_synonym': 'Aqua wildbad', 'syn_type': 'OTHER', 'synonyms': 'AQUA WILDBAD'}, {'molecule_synonym': 'B1217', 'syn_type': 'RESEARCH_CODE', 'synonyms': 'B1217'}, {'molecule_synonym': 'NSC-147337', 'syn_type': 'RESEARCH_CODE', 'synonyms': 'NSC-147337'}, {'molecule_synonym': 'Purified water', 'syn_type': 'FDA', 'synonyms': 'PURIFIED WATER'}, {'molecule_synonym': 'Purified water', 'syn_type': 'USP', 'synonyms': 'PURIFIED WATER'}, {'molecule_synonym': 'Pur-wash', 'syn_type': 'TRADE_NAME', 'synonyms': 'PUR-WASH'}, {'molecule_synonym': 'R-718', 'syn_type': 'RESEARCH_CODE', 'synonyms': 'R-718'}, {'molecule_synonym': 'Sterile purified water', 'syn_type': 'USP', 'synonyms': 'STERILE PURIFIED WATER'}, {'molecule_synonym': 'Sterile water', 'syn_type': 'TRADE_NAME', 'synonyms': 'STERILE WATER'}, {'molecule_synonym': 'Sterile water for inhalation', 'syn_type': 'OTHER', 'synonyms': 'STERILE WATER FOR INHALATION'}, {'molecule_synonym': 'Sterile water for injection', 'syn_type': 'FDA', 'synonyms': 'STERILE WATER FOR INJECTION'}, {'molecule_synonym': 'Sterile water for injection', 'syn_type': 'TRADE_NAME', 'synonyms': 'STERILE WATER FOR INJECTION'}, {'molecule_synonym': 'Sterile water for injections', 'syn_type': 'OTHER', 'synonyms': 'STERILE WATER FOR INJECTIONS'}, {'molecule_synonym': 'Sterile water for irrigation', 'syn_type': 'FDA', 'synonyms': 'STERILE WATER FOR IRRIGATION'}, {'molecule_synonym': 'Ultrex ii ultrapure', 'syn_type': 'OTHER', 'synonyms': 'ULTREX II ULTRAPURE'}, {'molecule_synonym': 'Water', 'syn_type': 'MERCK_INDEX', 'synonyms': 'WATER'}, {'molecule_synonym': 'Water', 'syn_type': 'OTHER', 'synonyms': 'WATER'}, {'molecule_synonym': 'Water,bacteriostatic', 'syn_type': 'OTHER', 'synonyms': 'WATER,BACTERIOSTATIC'}, {'molecule_synonym': 'Water,bacteriostatic injection', 'syn_type': 'OTHER', 'synonyms': 'WATER,BACTERIOSTATIC INJECTION'}, {'molecule_synonym': 'Water, deionized', 'syn_type': 'OTHER', 'synonyms': 'WATER, DEIONIZED'}, {'molecule_synonym': 'Water,deionized', 'syn_type': 'OTHER', 'synonyms': 'WATER,DEIONIZED'}, {'molecule_synonym': 'Water,distilled', 'syn_type': 'OTHER', 'synonyms': 'WATER,DISTILLED'}, {'molecule_synonym': 'Water for hemodialysis', 'syn_type': 'OTHER', 'synonyms': 'WATER FOR HEMODIALYSIS'}, {'molecule_synonym': 'Water for inhalation, sterile', 'syn_type': 'OTHER', 'synonyms': 'WATER FOR INHALATION, STERILE'}, {'molecule_synonym': 'Water for injection', 'syn_type': 'BNF', 'synonyms': 'WATER FOR INJECTION'}, {'molecule_synonym': 'Water for injection', 'syn_type': 'OTHER', 'synonyms': 'WATER FOR INJECTION'}, {'molecule_synonym': 'Water for injections', 'syn_type': 'OTHER', 'synonyms': 'WATER FOR INJECTIONS'}, {'molecule_synonym': 'Water for irrigation,sterile', 'syn_type': 'OTHER', 'synonyms': 'WATER FOR IRRIGATION,STERILE'}, {'molecule_synonym': 'Water purified', 'syn_type': 'OTHER', 'synonyms': 'WATER PURIFIED'}, {'molecule_synonym': 'Water,purified', 'syn_type': 'OTHER', 'synonyms': 'WATER,PURIFIED'}, {'molecule_synonym': 'Water, purified sterile', 'syn_type': 'OTHER', 'synonyms': 'WATER, PURIFIED STERILE'}, {'molecule_synonym': 'Water,sanitized', 'syn_type': 'OTHER', 'synonyms': 'WATER,SANITIZED'}, {'molecule_synonym': 'Water,sterile', 'syn_type': 'OTHER', 'synonyms': 'WATER,STERILE'}, {'molecule_synonym': 'Water, sterile purified', 'syn_type': 'OTHER', 'synonyms': 'WATER, STERILE PURIFIED'}, {'molecule_synonym': 'Wiesbaden', 'syn_type': 'OTHER', 'synonyms': 'WIESBADEN'}, {'molecule_synonym': 'Wiesbaden aqua', 'syn_type': 'OTHER', 'synonyms': 'WIESBADEN AQUA'}, {'molecule_synonym': 'Wildbad aqua', 'syn_type': 'OTHER', 'synonyms': 'WILDBAD AQUA'}], 'molecule_type': 'Small molecule', 'natural_product': 1, 'oral': False, 'orphan': 0, 'parenteral': False, 'polymer_flag': 0, 'pref_name': 'WATER', 'prodrug': 0, 'structure_type': 'MOL', 'therapeutic_flag': False, 'topical': True, 'usan_stem': 'deu-', 'usan_stem_definition': 'deuterated compounds', 'usan_substem': 'deu-', 'usan_year': 1963, 'veterinary': 0, 'withdrawn_flag': False}, '...(remaining elements truncated)...']"
      ]
     },
     "execution_count": 11,
     "metadata": {},
     "output_type": "execute_result"
    }
   ],
   "source": [
    "from chembl_webresource_client.new_client import new_client\n",
    "\n",
    "molecule = new_client.molecule\n",
    "approved_drugs = molecule.filter(max_phase=4).order_by('molecule_properties__mw_freebase')\n",
    "approved_drugs"
   ]
  },
  {
   "cell_type": "code",
   "execution_count": 12,
   "id": "464891e4-7346-404b-9257-ca7c0a8457b7",
   "metadata": {},
   "outputs": [
    {
     "data": {
      "text/plain": [
       "787"
      ]
     },
     "execution_count": 12,
     "metadata": {},
     "output_type": "execute_result"
    }
   ],
   "source": [
    "from chembl_webresource_client.new_client import new_client\n",
    "\n",
    "drug_indication = new_client.drug_indication\n",
    "molecules = new_client.molecule\n",
    "\n",
    "lung_cancer_ind = drug_indication.filter(efo_term__icontains=\"LUNG CARCINOMA\")\n",
    "lung_cancer_mols = molecules.filter(\n",
    "    molecule_chembl_id__in=[x['molecule_chembl_id'] for x in lung_cancer_ind])\n",
    "\n",
    "len(lung_cancer_mols)"
   ]
  },
  {
   "cell_type": "code",
   "execution_count": 13,
   "id": "1cc5f0da-ad2c-4218-b965-f5ec1a5a974e",
   "metadata": {},
   "outputs": [
    {
     "data": {
      "text/plain": [
       "[{'applicants': ['Jubilant Cadista Pharmaceuticals Inc', 'Ivax Pharmaceuticals Inc Sub Teva Pharmaceuticals Usa', 'Sandoz Inc', 'Apnar Pharma Lp', 'Novitium Pharma Llc', 'Norvium Bioscience Llc', 'Heritage Pharma Labs Inc Dba Avet Pharmaceuticals Labs Inc', 'Hikma Pharmaceuticals International Ltd', 'Ranbaxy Laboratories Ltd', 'Chartwell Rx Sciences Llc'], 'atc_classification': [{'code': 'G04CA03', 'description': 'GENITO URINARY SYSTEM AND SEX HORMONES: UROLOGICALS: DRUGS USED IN BENIGN PROSTATIC HYPERTROPHY: Alpha-adrenoreceptor antagonists'}], 'availability_type': 1, 'biotherapeutic': None, 'black_box': 0, 'black_box_warning': '0', 'chirality': 0, 'drug_type': 1, 'first_approval': 1987, 'first_in_class': 0, 'helm_notation': None, 'max_phase': '4.0', 'molecule_chembl_id': 'CHEMBL611', 'molecule_properties': {'alogp': '1.06', 'aromatic_rings': 2, 'full_molformula': 'C19H25N5O4', 'full_mwt': '387.44', 'hba': 8, 'hbd': 1, 'heavy_atoms': 28, 'mw_freebase': '387.44', 'np_likeness_score': '-0.89', 'num_ro5_violations': 0, 'psa': '103.04', 'qed_weighted': '0.83', 'ro3_pass': 'N', 'rtb': 4}, 'molecule_structures': {'canonical_smiles': 'COc1cc2nc(N3CCN(C(=O)C4CCCO4)CC3)nc(N)c2cc1OC', 'molfile': '\\n     RDKit          2D\\n\\n 28 31  0  0  0  0  0  0  0  0999 V2000\\n   -0.4208    0.3583    0.0000 C   0  0  0  0  0  0  0  0  0  0  0  0\\n   -0.4208    1.0625    0.0000 N   0  0  0  0  0  0  0  0  0  0  0  0\\n   -1.6458    1.0625    0.0000 C   0  0  0  0  0  0  0  0  0  0  0  0\\n   -1.0333    1.4250    0.0000 C   0  0  0  0  0  0  0  0  0  0  0  0\\n   -1.0333    0.0083    0.0000 N   0  0  0  0  0  0  0  0  0  0  0  0\\n   -1.6458    0.3583    0.0000 C   0  0  0  0  0  0  0  0  0  0  0  0\\n    0.1917   -0.0125    0.0000 N   0  0  0  0  0  0  0  0  0  0  0  0\\n    2.0167   -1.1167    0.0000 C   0  0  0  0  0  0  0  0  0  0  0  0\\n    1.4250   -0.7292    0.0000 N   0  0  0  0  0  0  0  0  0  0  0  0\\n   -2.2708    1.4250    0.0000 C   0  0  0  0  0  0  0  0  0  0  0  0\\n   -2.2708    0.0083    0.0000 C   0  0  0  0  0  0  0  0  0  0  0  0\\n   -2.8833    1.0625    0.0000 C   0  0  0  0  0  0  0  0  0  0  0  0\\n   -2.8833    0.3583    0.0000 C   0  0  0  0  0  0  0  0  0  0  0  0\\n    2.6750   -0.7667    0.0000 C   0  0  0  0  0  0  0  0  0  0  0  0\\n    0.1917   -0.7125    0.0000 C   0  0  0  0  0  0  0  0  0  0  0  0\\n    0.8042    0.3458    0.0000 C   0  0  0  0  0  0  0  0  0  0  0  0\\n    0.8042   -1.0917    0.0000 C   0  0  0  0  0  0  0  0  0  0  0  0\\n    1.4250   -0.0125    0.0000 C   0  0  0  0  0  0  0  0  0  0  0  0\\n    2.0167   -1.8042    0.0000 O   0  0  0  0  0  0  0  0  0  0  0  0\\n    3.2625   -1.1917    0.0000 O   0  0  0  0  0  0  0  0  0  0  0  0\\n   -1.0333    2.1333    0.0000 N   0  0  0  0  0  0  0  0  0  0  0  0\\n   -3.4958    1.4125    0.0000 O   0  0  0  0  0  0  0  0  0  0  0  0\\n   -3.4958   -0.0042    0.0000 O   0  0  0  0  0  0  0  0  0  0  0  0\\n    3.8292   -0.7667    0.0000 C   0  0  0  0  0  0  0  0  0  0  0  0\\n    2.9167   -0.0917    0.0000 C   0  0  0  0  0  0  0  0  0  0  0  0\\n   -4.1083    1.0625    0.0000 C   0  0  0  0  0  0  0  0  0  0  0  0\\n   -4.1083    0.3458    0.0000 C   0  0  0  0  0  0  0  0  0  0  0  0\\n    3.5792   -0.0917    0.0000 C   0  0  0  0  0  0  0  0  0  0  0  0\\n  2  1  1  0\\n  3  6  2  0\\n  4  2  2  0\\n  5  1  2  0\\n  6  5  1  0\\n  7  1  1  0\\n  8  9  1  0\\n  9 18  1  0\\n 10  3  1  0\\n 11  6  1  0\\n 12 13  1  0\\n 13 11  2  0\\n 14  8  1  0\\n 15  7  1  0\\n 16  7  1  0\\n 17 15  1  0\\n 18 16  1  0\\n 19  8  2  0\\n 20 14  1  0\\n 21  4  1  0\\n 22 12  1  0\\n 23 13  1  0\\n 24 20  1  0\\n 25 14  1  0\\n 26 22  1  0\\n 27 23  1  0\\n 28 25  1  0\\n  4  3  1  0\\n 17  9  1  0\\n 12 10  2  0\\n 28 24  1  0\\nM  END\\n', 'standard_inchi': 'InChI=1S/C19H25N5O4/c1-26-15-10-12-13(11-16(15)27-2)21-19(22-17(12)20)24-7-5-23(6-8-24)18(25)14-4-3-9-28-14/h10-11,14H,3-9H2,1-2H3,(H2,20,21,22)', 'standard_inchi_key': 'VCKUSRYTPJJLNI-UHFFFAOYSA-N'}, 'molecule_synonyms': [{'molecule_synonym': 'Terazosabb', 'syn_type': 'OTHER', 'synonyms': 'TERAZOSABB'}, {'molecule_synonym': 'Terazosin', 'syn_type': 'ATC', 'synonyms': 'TERAZOSIN'}, {'molecule_synonym': 'Terazosin', 'syn_type': 'BAN', 'synonyms': 'TERAZOSIN'}, {'molecule_synonym': 'Terazosin', 'syn_type': 'INN', 'synonyms': 'TERAZOSIN'}, {'molecule_synonym': 'Terazosin', 'syn_type': 'MERCK_INDEX', 'synonyms': 'TERAZOSIN'}, {'molecule_synonym': 'Terazosin', 'syn_type': 'OTHER', 'synonyms': 'TERAZOSIN'}, {'molecule_synonym': 'Terazosina', 'syn_type': 'INN_SPANISH', 'synonyms': 'TERAZOSINA'}, {'molecule_synonym': 'Terazosine', 'syn_type': 'INN_FRENCH', 'synonyms': 'TERAZOSINE'}], 'ob_patent': '11224572', 'oral': 1, 'parenteral': 0, 'prodrug': 0, 'research_codes': ['ABBOTT-45975 ANHYDROUS', 'NSC-759168', 'ABBOTT-45975'], 'rule_of_five': 1, 'sc_patent': 'US-11224572-B1', 'synonyms': ['Terazosin (BAN, INN, MI)', 'Terazosin hydrochloride (JAN, MI, USAN, USP)', 'Terazosin hydrochloride dihydrate (MI)', 'Terazosin hydrochloride hydrate (JAN)', ''], 'topical': 0, 'usan_stem': '-azosin', 'usan_stem_definition': 'antihypertensives (prazosin type)', 'usan_stem_substem': '-azosin(-azosin)', 'usan_year': 1980, 'withdrawn_flag': '0'}, {'applicants': ['Heritage Pharma Labs Inc', 'Teva Pharmaceuticals Usa Inc', 'Rising Pharma Holdings Inc', 'Ivax Pharmaceuticals Inc Sub Teva Pharmaceuticals Usa', 'Pliva Inc', 'Actavis Elizabeth Llc', 'Genpharm Inc', 'Aurobindo Pharma Usa Inc', 'Zydus Pharmaceuticals Usa Inc', 'Ani Pharmaceuticals Inc'], 'atc_classification': [{'code': 'C02CA04', 'description': 'CARDIOVASCULAR SYSTEM: ANTIHYPERTENSIVES: ANTIADRENERGIC AGENTS, PERIPHERALLY ACTING: Alpha-adrenoreceptor antagonists'}], 'availability_type': 1, 'biotherapeutic': None, 'black_box': 0, 'black_box_warning': '0', 'chirality': 0, 'drug_type': 1, 'first_approval': 1990, 'first_in_class': 0, 'helm_notation': None, 'max_phase': '4.0', 'molecule_chembl_id': 'CHEMBL707', 'molecule_properties': {'alogp': '1.72', 'aromatic_rings': 3, 'full_molformula': 'C23H25N5O5', 'full_mwt': '451.48', 'hba': 9, 'hbd': 1, 'heavy_atoms': 33, 'mw_freebase': '451.48', 'np_likeness_score': '-0.79', 'num_ro5_violations': 0, 'psa': '112.27', 'qed_weighted': '0.63', 'ro3_pass': 'N', 'rtb': 4}, 'molecule_structures': {'canonical_smiles': 'COc1cc2nc(N3CCN(C(=O)C4COc5ccccc5O4)CC3)nc(N)c2cc1OC', 'molfile': '\\n     RDKit          2D\\n\\n 33 37  0  0  0  0  0  0  0  0999 V2000\\n    0.0167  -14.8292    0.0000 C   0  0  0  0  0  0  0  0  0  0  0  0\\n    0.0167  -15.5500    0.0000 N   0  0  0  0  0  0  0  0  0  0  0  0\\n   -1.2208  -15.5500    0.0000 C   0  0  0  0  0  0  0  0  0  0  0  0\\n   -0.6083  -15.9125    0.0000 C   0  0  0  0  0  0  0  0  0  0  0  0\\n   -0.6083  -14.4667    0.0000 N   0  0  0  0  0  0  0  0  0  0  0  0\\n    3.0792  -13.7542    0.0000 C   0  0  0  0  0  0  0  0  0  0  0  0\\n   -1.2208  -14.8292    0.0000 C   0  0  0  0  0  0  0  0  0  0  0  0\\n    2.4792  -13.4042    0.0000 C   0  0  0  0  0  0  0  0  0  0  0  0\\n    3.7042  -13.4167    0.0000 O   0  0  0  0  0  0  0  0  0  0  0  0\\n    0.6417  -14.4667    0.0000 N   0  0  0  0  0  0  0  0  0  0  0  0\\n    1.8667  -13.7542    0.0000 N   0  0  0  0  0  0  0  0  0  0  0  0\\n   -1.8333  -15.9125    0.0000 C   0  0  0  0  0  0  0  0  0  0  0  0\\n   -1.8333  -14.4667    0.0000 C   0  0  0  0  0  0  0  0  0  0  0  0\\n    3.6792  -14.8167    0.0000 O   0  0  0  0  0  0  0  0  0  0  0  0\\n    4.3042  -13.7667    0.0000 C   0  0  0  0  0  0  0  0  0  0  0  0\\n   -2.4583  -15.5500    0.0000 C   0  0  0  0  0  0  0  0  0  0  0  0\\n   -2.4583  -14.8292    0.0000 C   0  0  0  0  0  0  0  0  0  0  0  0\\n    3.0667  -14.4667    0.0000 C   0  0  0  0  0  0  0  0  0  0  0  0\\n    4.2917  -14.4667    0.0000 C   0  0  0  0  0  0  0  0  0  0  0  0\\n    0.6417  -13.7667    0.0000 C   0  0  0  0  0  0  0  0  0  0  0  0\\n    1.2542  -14.8167    0.0000 C   0  0  0  0  0  0  0  0  0  0  0  0\\n    1.2417  -13.4167    0.0000 C   0  0  0  0  0  0  0  0  0  0  0  0\\n    1.8667  -14.4667    0.0000 C   0  0  0  0  0  0  0  0  0  0  0  0\\n    2.4792  -12.7042    0.0000 O   0  0  0  0  0  0  0  0  0  0  0  0\\n   -0.6083  -16.6125    0.0000 N   0  0  0  0  0  0  0  0  0  0  0  0\\n   -3.0833  -15.9125    0.0000 O   0  0  0  0  0  0  0  0  0  0  0  0\\n   -3.0833  -14.4667    0.0000 O   0  0  0  0  0  0  0  0  0  0  0  0\\n    4.9417  -13.4250    0.0000 C   0  0  0  0  0  0  0  0  0  0  0  0\\n    4.9167  -14.8292    0.0000 C   0  0  0  0  0  0  0  0  0  0  0  0\\n   -3.6875  -14.8125    0.0000 C   0  0  0  0  0  0  0  0  0  0  0  0\\n   -3.6833  -15.5500    0.0000 C   0  0  0  0  0  0  0  0  0  0  0  0\\n    5.5542  -13.7875    0.0000 C   0  0  0  0  0  0  0  0  0  0  0  0\\n    5.5417  -14.4875    0.0000 C   0  0  0  0  0  0  0  0  0  0  0  0\\n  2  1  1  0\\n  3  7  2  0\\n  4  2  2  0\\n  5  1  2  0\\n  6  8  1  0\\n  7  5  1  0\\n  8 11  1  0\\n  9  6  1  0\\n 10  1  1  0\\n 11 22  1  0\\n 12  3  1  0\\n 13  7  1  0\\n 14 18  1  0\\n 15  9  1  0\\n 16 12  2  0\\n 17 13  2  0\\n 18  6  1  0\\n 19 14  1  0\\n 20 10  1  0\\n 21 10  1  0\\n 22 20  1  0\\n 23 21  1  0\\n 24  8  2  0\\n 25  4  1  0\\n 26 16  1  0\\n 27 17  1  0\\n 28 15  1  0\\n 29 19  1  0\\n 30 27  1  0\\n 31 26  1  0\\n 32 28  2  0\\n 33 29  2  0\\n  4  3  1  0\\n 23 11  1  0\\n 17 16  1  0\\n 15 19  2  0\\n 32 33  1  0\\nM  END\\n', 'standard_inchi': 'InChI=1S/C23H25N5O5/c1-30-18-11-14-15(12-19(18)31-2)25-23(26-21(14)24)28-9-7-27(8-10-28)22(29)20-13-32-16-5-3-4-6-17(16)33-20/h3-6,11-12,20H,7-10,13H2,1-2H3,(H2,24,25,26)', 'standard_inchi_key': 'RUZYUOTYCVRMRZ-UHFFFAOYSA-N'}, 'molecule_synonyms': [{'molecule_synonym': 'C02CA04', 'syn_type': 'RESEARCH_CODE', 'synonyms': 'C02CA04'}, {'molecule_synonym': 'Doxazosin', 'syn_type': 'ATC', 'synonyms': 'DOXAZOSIN'}, {'molecule_synonym': 'Doxazosin', 'syn_type': 'BAN', 'synonyms': 'DOXAZOSIN'}, {'molecule_synonym': 'Doxazosin', 'syn_type': 'INN', 'synonyms': 'DOXAZOSIN'}, {'molecule_synonym': 'Doxazosin', 'syn_type': 'MERCK_INDEX', 'synonyms': 'DOXAZOSIN'}, {'molecule_synonym': 'Doxazosin', 'syn_type': 'OTHER', 'synonyms': 'DOXAZOSIN'}, {'molecule_synonym': 'Doxazosina', 'syn_type': 'INN_SPANISH', 'synonyms': 'DOXAZOSINA'}, {'molecule_synonym': 'Doxazosine', 'syn_type': 'INN_FRENCH', 'synonyms': 'DOXAZOSINE'}, {'molecule_synonym': 'UK-33274', 'syn_type': 'RESEARCH_CODE', 'synonyms': 'UK-33274'}], 'ob_patent': None, 'oral': 1, 'parenteral': 0, 'prodrug': 0, 'research_codes': ['NSC-759284', 'UK-33274', 'C02CA04', 'UK-33274-27', 'UK-33,274-27'], 'rule_of_five': 1, 'sc_patent': None, 'synonyms': ['Doxazosin mesilate (JAN)', 'Doxazosin mesylate (USAN, USP)', 'Doxazosin methanesulfonate (MI)', 'Doxazosin (BAN, INN, MI)', ''], 'topical': 0, 'usan_stem': '-azosin', 'usan_stem_definition': 'antihypertensives (prazosin type)', 'usan_stem_substem': '-azosin(-azosin)', 'usan_year': 1981, 'withdrawn_flag': '0'}]"
      ]
     },
     "execution_count": 13,
     "metadata": {},
     "output_type": "execute_result"
    }
   ],
   "source": [
    "from chembl_webresource_client.new_client import new_client\n",
    "\n",
    "drug = new_client.drug\n",
    "res = drug.filter(first_approval__gte=1980).filter(usan_stem=\"-azosin\")\n",
    "res"
   ]
  },
  {
   "cell_type": "code",
   "execution_count": 14,
   "id": "b5790fc7-7f55-4d1d-a53d-1fbc81abfb03",
   "metadata": {},
   "outputs": [
    {
     "data": {
      "text/plain": [
       "23921"
      ]
     },
     "execution_count": 14,
     "metadata": {},
     "output_type": "execute_result"
    }
   ],
   "source": [
    "from chembl_webresource_client.new_client import new_client\n",
    "\n",
    "molecule = new_client.molecule\n",
    "biotherapeutics = molecule.filter(biotherapeutic__isnull=False)\n",
    "len(biotherapeutics)"
   ]
  },
  {
   "cell_type": "code",
   "execution_count": 15,
   "id": "1625df6d-891f-4574-9cc7-94921f88936e",
   "metadata": {},
   "outputs": [
    {
     "data": {
      "text/plain": [
       "448087"
      ]
     },
     "execution_count": 15,
     "metadata": {},
     "output_type": "execute_result"
    }
   ],
   "source": [
    "from chembl_webresource_client.new_client import new_client\n",
    "\n",
    "molecule = new_client.molecule\n",
    "light_molecules = molecule.filter(molecule_properties__mw_freebase__lte=300)\n",
    "\n",
    "len(light_molecules)"
   ]
  },
  {
   "cell_type": "code",
   "execution_count": 16,
   "id": "9b7254e5-04f1-4868-8e12-08db6785e97f",
   "metadata": {},
   "outputs": [
    {
     "data": {
      "text/plain": [
       "[{'molecule_chembl_id': 'CHEMBL276711', 'pref_name': 'SEMAXANIB'}, {'molecule_chembl_id': 'CHEMBL4085457', 'pref_name': 'RITLECITINIB'}, {'molecule_chembl_id': 'CHEMBL4594348', 'pref_name': 'ELSUBRUTINIB'}]"
      ]
     },
     "execution_count": 16,
     "metadata": {},
     "output_type": "execute_result"
    }
   ],
   "source": [
    "from chembl_webresource_client.new_client import new_client\n",
    "\n",
    "molecule = new_client.molecule\n",
    "light_nib_molecules = molecule.filter(molecule_properties__mw_freebase__lte=300, pref_name__iendswith=\"nib\").only(['molecule_chembl_id', 'pref_name'])\n",
    "\n",
    "light_nib_molecules"
   ]
  },
  {
   "cell_type": "code",
   "execution_count": 17,
   "id": "958428ce-7989-4852-865d-658f5cfe9243",
   "metadata": {},
   "outputs": [
    {
     "data": {
      "text/plain": [
       "1935757"
      ]
     },
     "execution_count": 17,
     "metadata": {},
     "output_type": "execute_result"
    }
   ],
   "source": [
    "from chembl_webresource_client.new_client import new_client\n",
    "\n",
    "molecule = new_client.molecule\n",
    "no_violations = molecule.filter(molecule_properties__num_ro5_violations=0)\n",
    "len(no_violations)"
   ]
  },
  {
   "cell_type": "code",
   "execution_count": 19,
   "id": "f3401ebf-ff66-47f2-a6cc-d0238e768331",
   "metadata": {},
   "outputs": [
    {
     "data": {
      "text/plain": [
       "{'qed': 0.5501217966938848,\n",
       " 'MolWt': 180.15899999999996,\n",
       " 'TPSA': 63.60000000000001,\n",
       " 'HeavyAtomCount': 13,\n",
       " 'NumAromaticRings': 1,\n",
       " 'NumHAcceptors': 3,\n",
       " 'NumHDonors': 1,\n",
       " 'NumRotatableBonds': 2,\n",
       " 'MolLogP': 1.3100999999999998,\n",
       " 'MolecularFormula': 'C9H8O4',\n",
       " 'Ro3Pass': 0,\n",
       " 'NumRo5': 0,\n",
       " 'MonoisotopicMolWt': 180.042258736}"
      ]
     },
     "execution_count": 19,
     "metadata": {},
     "output_type": "execute_result"
    }
   ],
   "source": [
    "from chembl_webresource_client.utils import utils\n",
    "import json\n",
    "\n",
    "aspirin = utils.smiles2ctab('O=C(Oc1ccccc1C(=O)O)C')\n",
    "descs = json.loads(utils.chemblDescriptors(aspirin))[0]\n",
    "descs"
   ]
  },
  {
   "cell_type": "code",
   "execution_count": null,
   "id": "1c89013e-8850-4c0f-b777-deca4b917964",
   "metadata": {},
   "outputs": [],
   "source": []
  }
 ],
 "metadata": {
  "kernelspec": {
   "display_name": "Python 3 (ipykernel)",
   "language": "python",
   "name": "python3"
  },
  "language_info": {
   "codemirror_mode": {
    "name": "ipython",
    "version": 3
   },
   "file_extension": ".py",
   "mimetype": "text/x-python",
   "name": "python",
   "nbconvert_exporter": "python",
   "pygments_lexer": "ipython3",
   "version": "3.12.1"
  }
 },
 "nbformat": 4,
 "nbformat_minor": 5
}
