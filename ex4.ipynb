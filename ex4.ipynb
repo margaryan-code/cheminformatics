{
 "cells": [
  {
   "cell_type": "code",
   "execution_count": 15,
   "id": "56f55fde-299b-45b9-b6d7-a5abcc8d7be5",
   "metadata": {},
   "outputs": [
    {
     "name": "stdout",
     "output_type": "stream",
     "text": [
      "Requirement already satisfied: pandas in c:\\users\\arthu\\appdata\\local\\programs\\python\\python312\\lib\\site-packages (2.2.2)\n",
      "Requirement already satisfied: numpy in c:\\users\\arthu\\appdata\\local\\programs\\python\\python312\\lib\\site-packages (1.26.4)\n",
      "Requirement already satisfied: matplotlib in c:\\users\\arthu\\appdata\\local\\programs\\python\\python312\\lib\\site-packages (3.8.3)\n",
      "Requirement already satisfied: rdkit in c:\\users\\arthu\\appdata\\local\\programs\\python\\python312\\lib\\site-packages (2024.3.1)\n",
      "Requirement already satisfied: python-dateutil>=2.8.2 in c:\\users\\arthu\\appdata\\local\\programs\\python\\python312\\lib\\site-packages (from pandas) (2.8.2)\n",
      "Requirement already satisfied: pytz>=2020.1 in c:\\users\\arthu\\appdata\\local\\programs\\python\\python312\\lib\\site-packages (from pandas) (2024.1)\n",
      "Requirement already satisfied: tzdata>=2022.7 in c:\\users\\arthu\\appdata\\local\\programs\\python\\python312\\lib\\site-packages (from pandas) (2024.1)\n",
      "Requirement already satisfied: contourpy>=1.0.1 in c:\\users\\arthu\\appdata\\local\\programs\\python\\python312\\lib\\site-packages (from matplotlib) (1.2.0)\n",
      "Requirement already satisfied: cycler>=0.10 in c:\\users\\arthu\\appdata\\local\\programs\\python\\python312\\lib\\site-packages (from matplotlib) (0.12.1)\n",
      "Requirement already satisfied: fonttools>=4.22.0 in c:\\users\\arthu\\appdata\\local\\programs\\python\\python312\\lib\\site-packages (from matplotlib) (4.49.0)\n",
      "Requirement already satisfied: kiwisolver>=1.3.1 in c:\\users\\arthu\\appdata\\local\\programs\\python\\python312\\lib\\site-packages (from matplotlib) (1.4.5)\n",
      "Requirement already satisfied: packaging>=20.0 in c:\\users\\arthu\\appdata\\local\\programs\\python\\python312\\lib\\site-packages (from matplotlib) (23.2)\n",
      "Requirement already satisfied: pillow>=8 in c:\\users\\arthu\\appdata\\local\\programs\\python\\python312\\lib\\site-packages (from matplotlib) (10.2.0)\n",
      "Requirement already satisfied: pyparsing>=2.3.1 in c:\\users\\arthu\\appdata\\local\\programs\\python\\python312\\lib\\site-packages (from matplotlib) (3.1.1)\n",
      "Requirement already satisfied: six>=1.5 in c:\\users\\arthu\\appdata\\local\\programs\\python\\python312\\lib\\site-packages (from python-dateutil>=2.8.2->pandas) (1.16.0)\n"
     ]
    }
   ],
   "source": [
    "!pip install pandas numpy matplotlib rdkit"
   ]
  },
  {
   "cell_type": "code",
   "execution_count": 16,
   "id": "49e51c16-ed36-45f1-a120-21a32ee9c338",
   "metadata": {},
   "outputs": [],
   "source": [
    "import pandas as pd\n",
    "import numpy as np\n",
    "import matplotlib.pyplot as plt\n",
    "from rdkit import Chem\n",
    "from rdkit.Chem import AllChem,Draw\n",
    "import random\n",
    "from rdkit.Chem import rdmolfiles"
   ]
  },
  {
   "cell_type": "code",
   "execution_count": 17,
   "id": "afeabf63-0c54-413a-b2e2-84f1dfb49786",
   "metadata": {},
   "outputs": [],
   "source": [
    "chembl_data = pd.read_csv(r\"C:\\Users\\arthu\\OneDrive\\Desktop\\denovoexercises\\Exercises\\chembl_filtr.csv\", delimiter=';')"
   ]
  },
  {
   "cell_type": "code",
   "execution_count": 18,
   "id": "472e3751-4cab-412a-88dc-ab380b2c35e6",
   "metadata": {},
   "outputs": [],
   "source": [
    "sampled = chembl_data. sample(n=100000, random_state=42)\n",
    "sampled = sampled[sampled['Smiles'].apply(lambda x: isinstance(x, str))]\n",
    "sampled = sampled[sampled['Smiles'].notna()]"
   ]
  },
  {
   "cell_type": "code",
   "execution_count": 19,
   "id": "96fac0ff-aedc-4237-b6b3-d686990c9782",
   "metadata": {},
   "outputs": [
    {
     "name": "stdout",
     "output_type": "stream",
     "text": [
      "Number of matches: 98229\n"
     ]
    }
   ],
   "source": [
    "smarts_pattern = Chem.MolFromSmarts(\"[!$(*#*)&!D1]-!@[!$(*#*)&!D1]\")\n",
    "matches = []\n",
    "for smiles in sampled['Smiles']: \n",
    "    mol = Chem.MolFromSmiles(smiles)\n",
    "    mol_with_hs = Chem.AddHs(mol)\n",
    "    if mol_with_hs is not None and mol.HasSubstructMatch(smarts_pattern):\n",
    "        matches.append(mol_with_hs)\n",
    "print(f\"Number of matches: {len(matches)}\")\n"
   ]
  },
  {
   "cell_type": "code",
   "execution_count": 20,
   "id": "b5ad8fca-a95a-4287-8de2-7e47b4f22556",
   "metadata": {},
   "outputs": [],
   "source": [
    "sampled_100_molecules = random.sample(matches, 100)"
   ]
  },
  {
   "cell_type": "code",
   "execution_count": 21,
   "id": "c886657a-b52a-4b92-bb7e-23adda7b56b5",
   "metadata": {},
   "outputs": [],
   "source": [
    "for mol in sampled_100_molecules:\n",
    "    AllChem.EmbedMolecule(mol)\n"
   ]
  },
  {
   "cell_type": "code",
   "execution_count": 22,
   "id": "73a5daa8-646a-46bd-8ad1-66d493299710",
   "metadata": {},
   "outputs": [],
   "source": [
    "w = Chem.SDWriter(\"sampled_molecules.sdf\")\n",
    "for mol in sampled_100_molecules:\n",
    "    if mol is not None:\n",
    "        w.write(mol)\n",
    "w.close()"
   ]
  }
 ],
 "metadata": {
  "kernelspec": {
   "display_name": "Python 3 (ipykernel)",
   "language": "python",
   "name": "python3"
  },
  "language_info": {
   "codemirror_mode": {
    "name": "ipython",
    "version": 3
   },
   "file_extension": ".py",
   "mimetype": "text/x-python",
   "name": "python",
   "nbconvert_exporter": "python",
   "pygments_lexer": "ipython3",
   "version": "3.12.1"
  }
 },
 "nbformat": 4,
 "nbformat_minor": 5
}
