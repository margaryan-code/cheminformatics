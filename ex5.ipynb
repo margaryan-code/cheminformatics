{
 "cells": [
  {
   "cell_type": "code",
   "execution_count": 1,
   "id": "771e40af-5807-4fb0-b939-a3a53f519d4b",
   "metadata": {},
   "outputs": [
    {
     "name": "stdout",
     "output_type": "stream",
     "text": [
      "Requirement already satisfied: rdkit in c:\\users\\arthu\\appdata\\local\\programs\\python\\python312\\lib\\site-packages (2024.3.1)\n",
      "Requirement already satisfied: numpy in c:\\users\\arthu\\appdata\\local\\programs\\python\\python312\\lib\\site-packages (from rdkit) (1.26.4)\n",
      "Requirement already satisfied: Pillow in c:\\users\\arthu\\appdata\\local\\programs\\python\\python312\\lib\\site-packages (from rdkit) (10.2.0)\n"
     ]
    }
   ],
   "source": [
    "!pip install rdkit"
   ]
  },
  {
   "cell_type": "code",
   "execution_count": 2,
   "id": "16fb9d95-7f75-469b-9031-cf6860dfab38",
   "metadata": {},
   "outputs": [],
   "source": [
    "from rdkit import Chem"
   ]
  },
  {
   "cell_type": "code",
   "execution_count": 3,
   "id": "0f4fc967-094e-4a80-959c-5f1e899ae8d8",
   "metadata": {},
   "outputs": [
    {
     "data": {
      "text/plain": [
       "'anti-Bredt'"
      ]
     },
     "execution_count": 3,
     "metadata": {},
     "output_type": "execute_result"
    }
   ],
   "source": [
    "def is_bridgehead_double_bond_to_carbon(mol, bridgehead_atoms):\n",
    "    double_bond_atoms = []\n",
    "    for atom_idx in bridgehead_atoms:\n",
    "        atom = mol.GetAtomWithIdx(atom_idx)\n",
    "        for bond in atom.GetBonds():\n",
    "            if bond.GetBondType() == Chem.rdchem.BondType.DOUBLE:\n",
    "                other_atom = bond.GetOtherAtom(atom)\n",
    "                if other_atom.GetAtomicNum() == 6 and other_atom.IsInRing():\n",
    "                    double_bond_atoms.append(atom_idx)\n",
    "    return double_bond_atoms\n",
    "\n",
    "\n",
    "def classify_molecule(smiles):\n",
    "    mol = Chem.MolFromSmiles(smiles)\n",
    "    ssr = Chem.GetSymmSSSR(mol)\n",
    "    rings = [set(ring) for ring in ssr]\n",
    "    if len(rings) < 2:\n",
    "        return \"neither\"\n",
    "\n",
    "    bridgehead_atoms = []\n",
    "    for i, ring1 in enumerate(rings):\n",
    "        for ring2 in rings[i + 1:]:\n",
    "            shared_atoms = ring1 & ring2\n",
    "            if len(shared_atoms) == 2:\n",
    "                for atom in shared_atoms:\n",
    "                    neighbors = mol.GetAtomWithIdx(atom).GetNeighbors()\n",
    "                    if any(neighbor.GetIdx() in shared_atoms for neighbor in neighbors):\n",
    "                        return \"fused\"\n",
    "            elif len(shared_atoms) > 2:\n",
    "                bridgehead_atoms = list(shared_atoms)\n",
    "                double_bond_atoms = is_bridgehead_double_bond_to_carbon(mol, bridgehead_atoms)\n",
    "                if double_bond_atoms:\n",
    "                    for atom_idx in double_bond_atoms:\n",
    "                        smallest_ring_size = min(len(ring) for ring in ssr if atom_idx in ring)\n",
    "                        if smallest_ring_size < 8:\n",
    "                            return \"anti-Bredt\"\n",
    "                return \"bridged\"\n",
    "\n",
    "    return \"neither\"\n",
    "\n",
    "mol1 = ('C1C[C@H]2C[C@@H]1C=C2')  #Bicyclo[2.2.1]hept-2-ene  bridged\n",
    "mol2 = ('C1CC2C1CC=C2')  #Bicyclo[3.2.0]hept-2-ene  fused\n",
    "mol3 = ('CC1=C2CC[C@@]2([C@H]3CC(C[C@H]3C1)(C)C)C')  #Delta(6)-protoilludene   fused\n",
    "mol4 = ('CC1=C2C[C@](C[C@H]2CC3=COC(=C13)C(=O)O)(C)CO') #Tsugicoline fused\n",
    "mol5 = ('C[C@@H]1CC[C@@H]2CC3=C(CC[C@]13C2(C)C)C') #Cyperene bridged\n",
    "mol6 = ('O=C1C2CCCCC1CC2') #Bicyclo(4.2.1)nonan-9-one bridged\n",
    "mol7 = ('O=C1CCC2CC1CCC2=O') # Bicyclo(3.3.1)nonane-2,6-dione bridged\n",
    "mol8 = ('O=C1C2CC3CC1CC(C2)C3=O') #2,6-Adamantandione bridged\n",
    "mol9 = ('C1CC2CCC1=C2') #bridged\n",
    "mol10 = ('CC1=C2C[C@](C[C@H]2CC3=COC(=C13)C(=O)O)(C)CO') #fused\n",
    "mol11 = ('C1CCC2CCCCC(C1)C2') #bridged\n",
    "mol12 = ('C1C=C2CC1C2')#Bicyclo[2.1.1]hexene bridged\n",
    "mol13 = ('C1C2C1=C2') #Bicyclo[1.1.0]butene fused\n",
    "mol14 = ('C1CC=C2CC=CCC(=C1)C2')#Bicyclo[4.4.1]undeca-1,5,8-triene bridged violate\n",
    "mol15 = ('O=C1C=C2[C@](C)(CC1)[C@H]3CC[C@]4(C)[C@H](CC[C@H]4[C@@H]3CC2)O') #fused\n",
    "mol15 = ('C1C2C=CC1C=C2')#Norbornadiene\n",
    "   \n",
    "classify_molecule('C1CC=C2CC=CCC(=C1)C2')"
   ]
  },
  {
   "cell_type": "code",
   "execution_count": null,
   "id": "0034048b-1517-45f1-9057-98d6b7c665ad",
   "metadata": {},
   "outputs": [],
   "source": []
  }
 ],
 "metadata": {
  "kernelspec": {
   "display_name": "Python 3 (ipykernel)",
   "language": "python",
   "name": "python3"
  },
  "language_info": {
   "codemirror_mode": {
    "name": "ipython",
    "version": 3
   },
   "file_extension": ".py",
   "mimetype": "text/x-python",
   "name": "python",
   "nbconvert_exporter": "python",
   "pygments_lexer": "ipython3",
   "version": "3.12.1"
  }
 },
 "nbformat": 4,
 "nbformat_minor": 5
}
